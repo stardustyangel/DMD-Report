{
  "cells": [
    {
      "cell_type": "markdown",
      "source": [
        "# Metadata :\n",
        "**Report: Anomaly Detection**\n",
        "\n",
        "- `Author` : Taisir Boukrouba\n",
        "- `ID` : 22084758\n",
        "- `Module` : Data Mining & Discovery\n",
        "- `Group` : 48\n",
        "- `Subject` : 08\n",
        "- `Problem` : Clustering Vs. Anomaly\n",
        "- `Data` : [UCI Rent Data](https://archive.ics.uci.edu/dataset/555/apartment+for+rent+classified)\n",
        "\n",
        "\n",
        "> **NOTE** : If data took to much to load disconnect and delete runtime , and re-run again ( the data is big and we took a sample from it later )\n",
        "\n"
      ],
      "metadata": {
        "id": "9kwbEdLIw3Yv"
      }
    },
    {
      "cell_type": "markdown",
      "metadata": {
        "id": "B7jT3ownOYVX"
      },
      "source": [
        "# Initialisaition\n",
        "\n",
        "\n",
        "\n"
      ]
    },
    {
      "cell_type": "code",
      "execution_count": 1,
      "metadata": {
        "colab": {
          "base_uri": "https://localhost:8080/"
        },
        "id": "lyzsHOYwP7TQ",
        "outputId": "50248ceb-10d7-4b32-d64d-76ac35d4fd7b"
      },
      "outputs": [
        {
          "output_type": "stream",
          "name": "stdout",
          "text": [
            "Collecting ucimlrepo\n",
            "  Downloading ucimlrepo-0.0.6-py3-none-any.whl (8.0 kB)\n",
            "Installing collected packages: ucimlrepo\n",
            "Successfully installed ucimlrepo-0.0.6\n"
          ]
        }
      ],
      "source": [
        "# this is important to be able to load our data using its API\n",
        "!pip install ucimlrepo"
      ]
    },
    {
      "cell_type": "code",
      "execution_count": 2,
      "metadata": {
        "id": "pKU77Nrj8eIU"
      },
      "outputs": [],
      "source": [
        "# defining our libraries\n",
        "import pandas as pd\n",
        "import matplotlib.pyplot as plt\n",
        "import numpy as np\n",
        "from ucimlrepo import fetch_ucirepo\n",
        "import seaborn as sns\n",
        "import tensorflow as tf\n",
        "from sklearn.preprocessing import StandardScaler, LabelEncoder\n",
        "from sklearn.decomposition import PCA\n",
        "from sklearn.cluster import KMeans\n",
        "from sklearn.neighbors import NearestNeighbors\n",
        "from scipy.spatial import distance\n",
        "import warnings\n",
        "\n",
        "warnings.filterwarnings(\"ignore\")"
      ]
    },
    {
      "cell_type": "code",
      "source": [
        "def outliers_analysis(df, col_name):\n",
        "    \"\"\"\n",
        "    Analyzes outliers in a DataFrame column.\n",
        "\n",
        "    Parameters:\n",
        "        df (DataFrame): The DataFrame containing the data.\n",
        "        col_name (str): The name of the column to analyze for outliers.\n",
        "\n",
        "    Returns:\n",
        "        tuple: A tuple containing the lower and upper bounds of the outliers.\n",
        "\n",
        "    This function calculates the lower and upper bounds for outliers using the interquartile range (IQR) method.\n",
        "    It then identifies outliers in the specified column based on these bounds and prints the count of outliers.\n",
        "    \"\"\"\n",
        "\n",
        "    col = df[col_name]\n",
        "\n",
        "    # Calculate IQR\n",
        "    q1 = col.quantile(0.25)\n",
        "    q3 = col.quantile(0.75)\n",
        "    iqr = q3 - q1\n",
        "\n",
        "    # Define outlier thresholds\n",
        "    lower_bound = q1 - 1.5 * iqr\n",
        "    upper_bound = q3 + 1.5 * iqr\n",
        "\n",
        "    # Count outliers\n",
        "    outliers = col[(col < lower_bound) | (col > upper_bound)]\n",
        "    num_outliers = len(outliers)\n",
        "    print(f\"There are approximately {num_outliers} outliers in {col_name}\")\n",
        "\n",
        "    return lower_bound, upper_bound\n"
      ],
      "metadata": {
        "id": "zPiWjt2UoFKx"
      },
      "execution_count": 3,
      "outputs": []
    },
    {
      "cell_type": "code",
      "source": [
        "def stratified_sampling(df, strata_col, sample_size):\n",
        "    \"\"\"\n",
        "    Performs stratified sampling on a DataFrame based on a specified strata column.\n",
        "\n",
        "    Parameters:\n",
        "        df (DataFrame): The DataFrame containing the data.\n",
        "        strata_col (str): The name of the column to be used as strata.\n",
        "        sample_size (float): The desired size of the sample as a fraction of the total data.\n",
        "\n",
        "    Returns:\n",
        "        DataFrame: A DataFrame containing the stratified sample.\n",
        "\n",
        "    This function divides the DataFrame into groups based on the values in the specified strata column.\n",
        "    It then samples from each group proportionally to its size in the original data, ensuring representation\n",
        "    of each stratum in the final sample.\n",
        "    \"\"\"\n",
        "\n",
        "    # Grouping the DataFrame by the specified strata column\n",
        "    groups = df.groupby(strata_col)\n",
        "\n",
        "    # Initializing an empty DataFrame to store the sample\n",
        "    sample = pd.DataFrame()\n",
        "\n",
        "    # Iterating over each group\n",
        "    for _, group in groups:\n",
        "        # Sampling from each group using the specified sample size fraction\n",
        "        stratum_sample = group.sample(frac=sample_size, replace=False, random_state=7)\n",
        "\n",
        "        # Concatenating the sampled data from each stratum to the sample DataFrame\n",
        "        sample = pd.concat([sample, stratum_sample], ignore_index=True)\n",
        "\n",
        "    return sample"
      ],
      "metadata": {
        "id": "08fkRx6y7tzJ"
      },
      "execution_count": 4,
      "outputs": []
    },
    {
      "cell_type": "code",
      "source": [
        "def categorize_rent(rent, q1, q3):\n",
        "    \"\"\"\n",
        "    Categorizes rent into affordability levels based on quartile ranges.\n",
        "\n",
        "    Parameters:\n",
        "        rent (float): The rent value to be categorized.\n",
        "        q1 (float): The first quartile value.\n",
        "        q3 (float): The third quartile value.\n",
        "\n",
        "    Returns:\n",
        "        str: A string indicating the category of rent (Expensive, Moderate, or Affordable).\n",
        "\n",
        "    This function categorizes rent into three affordability levels: Expensive, Moderate, and Affordable,\n",
        "    based on quartile ranges. Rent above the third quartile is categorized as Expensive, rent within\n",
        "    the interquartile range (between the first and third quartile) is categorized as Moderate, and\n",
        "    rent below the first quartile is categorized as Affordable.\n",
        "    \"\"\"\n",
        "\n",
        "    if rent > q3:\n",
        "        return \"Expensive\"\n",
        "    elif rent >= q1 and rent <= q3:\n",
        "        return \"Moderate\"\n",
        "    else:\n",
        "        return \"Affordable\"\n"
      ],
      "metadata": {
        "id": "tgpGvULr8fRE"
      },
      "execution_count": 5,
      "outputs": []
    },
    {
      "cell_type": "markdown",
      "source": [
        "## Loading Data :"
      ],
      "metadata": {
        "id": "9ONcOSJHkp6I"
      }
    },
    {
      "cell_type": "code",
      "execution_count": 6,
      "metadata": {
        "id": "hqXv7pL5RdpH"
      },
      "outputs": [],
      "source": [
        "# fetch dataset\n",
        "apartment_for_rent_classified = fetch_ucirepo(id=555)\n",
        "\n",
        "# data (as pandas dataframes)\n",
        "rent_df = apartment_for_rent_classified.data.features"
      ]
    },
    {
      "cell_type": "code",
      "execution_count": 7,
      "metadata": {
        "id": "sK-Xvgce-HfG",
        "colab": {
          "base_uri": "https://localhost:8080/",
          "height": 603
        },
        "outputId": "91dfed45-409d-4bee-b7ac-f1add77c05ff"
      },
      "outputs": [
        {
          "output_type": "execute_result",
          "data": {
            "text/plain": [
              "                 category                            title  \\\n",
              "0  housing/rent/apartment       One BR 507 & 509 Esplanade   \n",
              "1  housing/rent/apartment      Three BR 146 Lochview Drive   \n",
              "2  housing/rent/apartment  Three BR 3101 Morningside Drive   \n",
              "3  housing/rent/apartment            Two BR 209 Aegean Way   \n",
              "4  housing/rent/apartment         One BR 4805 Marquette NE   \n",
              "\n",
              "                                                body amenities bathrooms  \\\n",
              "0  This unit is located at 507 & 509 Esplanade, R...       NaN         1   \n",
              "1  This unit is located at 146 Lochview Drive, Ne...       NaN       1.5   \n",
              "2  This unit is located at 3101 Morningside Drive...       NaN         2   \n",
              "3  This unit is located at 209 Aegean Way, Vacavi...       NaN         1   \n",
              "4  This unit is located at 4805 Marquette NE, Alb...       NaN         1   \n",
              "\n",
              "  bedrooms currency fee  has_photo pets_allowed  ...  price_display  \\\n",
              "0        1      USD  No  Thumbnail         Cats  ...           2195   \n",
              "1        3      USD  No  Thumbnail    Cats,Dogs  ...           1250   \n",
              "2        3      USD  No  Thumbnail          NaN  ...           1395   \n",
              "3        2      USD  No  Thumbnail    Cats,Dogs  ...           1600   \n",
              "4        1      USD  No  Thumbnail    Cats,Dogs  ...            975   \n",
              "\n",
              "  price_type square_feet              address       cityname state latitude  \\\n",
              "0    Monthly         542   507  509 Esplanade  Redondo Beach    CA  33.8520   \n",
              "1    Monthly        1500      146 Lochview Dr   Newport News    VA  37.0867   \n",
              "2    Monthly        1650  3101 Morningside Dr        Raleigh    NC  35.8230   \n",
              "3    Monthly         820       209 Aegean Way      Vacaville    CA  38.3622   \n",
              "4    Monthly         624    4805 Marquette NE    Albuquerque    NM  35.1038   \n",
              "\n",
              "   longitude     source          time  \n",
              "0  -118.3759  RentLingo  1.577360e+09  \n",
              "1   -76.4941  RentLingo  1.577360e+09  \n",
              "2   -78.6438  RentLingo  1.577360e+09  \n",
              "3  -121.9712  RentLingo  1.577360e+09  \n",
              "4  -106.6110  RentLingo  1.577360e+09  \n",
              "\n",
              "[5 rows x 21 columns]"
            ],
            "text/html": [
              "\n",
              "  <div id=\"df-2fa9ff1d-4aa9-4db5-b225-ac63053c305d\" class=\"colab-df-container\">\n",
              "    <div>\n",
              "<style scoped>\n",
              "    .dataframe tbody tr th:only-of-type {\n",
              "        vertical-align: middle;\n",
              "    }\n",
              "\n",
              "    .dataframe tbody tr th {\n",
              "        vertical-align: top;\n",
              "    }\n",
              "\n",
              "    .dataframe thead th {\n",
              "        text-align: right;\n",
              "    }\n",
              "</style>\n",
              "<table border=\"1\" class=\"dataframe\">\n",
              "  <thead>\n",
              "    <tr style=\"text-align: right;\">\n",
              "      <th></th>\n",
              "      <th>category</th>\n",
              "      <th>title</th>\n",
              "      <th>body</th>\n",
              "      <th>amenities</th>\n",
              "      <th>bathrooms</th>\n",
              "      <th>bedrooms</th>\n",
              "      <th>currency</th>\n",
              "      <th>fee</th>\n",
              "      <th>has_photo</th>\n",
              "      <th>pets_allowed</th>\n",
              "      <th>...</th>\n",
              "      <th>price_display</th>\n",
              "      <th>price_type</th>\n",
              "      <th>square_feet</th>\n",
              "      <th>address</th>\n",
              "      <th>cityname</th>\n",
              "      <th>state</th>\n",
              "      <th>latitude</th>\n",
              "      <th>longitude</th>\n",
              "      <th>source</th>\n",
              "      <th>time</th>\n",
              "    </tr>\n",
              "  </thead>\n",
              "  <tbody>\n",
              "    <tr>\n",
              "      <th>0</th>\n",
              "      <td>housing/rent/apartment</td>\n",
              "      <td>One BR 507 &amp; 509 Esplanade</td>\n",
              "      <td>This unit is located at 507 &amp; 509 Esplanade, R...</td>\n",
              "      <td>NaN</td>\n",
              "      <td>1</td>\n",
              "      <td>1</td>\n",
              "      <td>USD</td>\n",
              "      <td>No</td>\n",
              "      <td>Thumbnail</td>\n",
              "      <td>Cats</td>\n",
              "      <td>...</td>\n",
              "      <td>2195</td>\n",
              "      <td>Monthly</td>\n",
              "      <td>542</td>\n",
              "      <td>507  509 Esplanade</td>\n",
              "      <td>Redondo Beach</td>\n",
              "      <td>CA</td>\n",
              "      <td>33.8520</td>\n",
              "      <td>-118.3759</td>\n",
              "      <td>RentLingo</td>\n",
              "      <td>1.577360e+09</td>\n",
              "    </tr>\n",
              "    <tr>\n",
              "      <th>1</th>\n",
              "      <td>housing/rent/apartment</td>\n",
              "      <td>Three BR 146 Lochview Drive</td>\n",
              "      <td>This unit is located at 146 Lochview Drive, Ne...</td>\n",
              "      <td>NaN</td>\n",
              "      <td>1.5</td>\n",
              "      <td>3</td>\n",
              "      <td>USD</td>\n",
              "      <td>No</td>\n",
              "      <td>Thumbnail</td>\n",
              "      <td>Cats,Dogs</td>\n",
              "      <td>...</td>\n",
              "      <td>1250</td>\n",
              "      <td>Monthly</td>\n",
              "      <td>1500</td>\n",
              "      <td>146 Lochview Dr</td>\n",
              "      <td>Newport News</td>\n",
              "      <td>VA</td>\n",
              "      <td>37.0867</td>\n",
              "      <td>-76.4941</td>\n",
              "      <td>RentLingo</td>\n",
              "      <td>1.577360e+09</td>\n",
              "    </tr>\n",
              "    <tr>\n",
              "      <th>2</th>\n",
              "      <td>housing/rent/apartment</td>\n",
              "      <td>Three BR 3101 Morningside Drive</td>\n",
              "      <td>This unit is located at 3101 Morningside Drive...</td>\n",
              "      <td>NaN</td>\n",
              "      <td>2</td>\n",
              "      <td>3</td>\n",
              "      <td>USD</td>\n",
              "      <td>No</td>\n",
              "      <td>Thumbnail</td>\n",
              "      <td>NaN</td>\n",
              "      <td>...</td>\n",
              "      <td>1395</td>\n",
              "      <td>Monthly</td>\n",
              "      <td>1650</td>\n",
              "      <td>3101 Morningside Dr</td>\n",
              "      <td>Raleigh</td>\n",
              "      <td>NC</td>\n",
              "      <td>35.8230</td>\n",
              "      <td>-78.6438</td>\n",
              "      <td>RentLingo</td>\n",
              "      <td>1.577360e+09</td>\n",
              "    </tr>\n",
              "    <tr>\n",
              "      <th>3</th>\n",
              "      <td>housing/rent/apartment</td>\n",
              "      <td>Two BR 209 Aegean Way</td>\n",
              "      <td>This unit is located at 209 Aegean Way, Vacavi...</td>\n",
              "      <td>NaN</td>\n",
              "      <td>1</td>\n",
              "      <td>2</td>\n",
              "      <td>USD</td>\n",
              "      <td>No</td>\n",
              "      <td>Thumbnail</td>\n",
              "      <td>Cats,Dogs</td>\n",
              "      <td>...</td>\n",
              "      <td>1600</td>\n",
              "      <td>Monthly</td>\n",
              "      <td>820</td>\n",
              "      <td>209 Aegean Way</td>\n",
              "      <td>Vacaville</td>\n",
              "      <td>CA</td>\n",
              "      <td>38.3622</td>\n",
              "      <td>-121.9712</td>\n",
              "      <td>RentLingo</td>\n",
              "      <td>1.577360e+09</td>\n",
              "    </tr>\n",
              "    <tr>\n",
              "      <th>4</th>\n",
              "      <td>housing/rent/apartment</td>\n",
              "      <td>One BR 4805 Marquette NE</td>\n",
              "      <td>This unit is located at 4805 Marquette NE, Alb...</td>\n",
              "      <td>NaN</td>\n",
              "      <td>1</td>\n",
              "      <td>1</td>\n",
              "      <td>USD</td>\n",
              "      <td>No</td>\n",
              "      <td>Thumbnail</td>\n",
              "      <td>Cats,Dogs</td>\n",
              "      <td>...</td>\n",
              "      <td>975</td>\n",
              "      <td>Monthly</td>\n",
              "      <td>624</td>\n",
              "      <td>4805 Marquette NE</td>\n",
              "      <td>Albuquerque</td>\n",
              "      <td>NM</td>\n",
              "      <td>35.1038</td>\n",
              "      <td>-106.6110</td>\n",
              "      <td>RentLingo</td>\n",
              "      <td>1.577360e+09</td>\n",
              "    </tr>\n",
              "  </tbody>\n",
              "</table>\n",
              "<p>5 rows × 21 columns</p>\n",
              "</div>\n",
              "    <div class=\"colab-df-buttons\">\n",
              "\n",
              "  <div class=\"colab-df-container\">\n",
              "    <button class=\"colab-df-convert\" onclick=\"convertToInteractive('df-2fa9ff1d-4aa9-4db5-b225-ac63053c305d')\"\n",
              "            title=\"Convert this dataframe to an interactive table.\"\n",
              "            style=\"display:none;\">\n",
              "\n",
              "  <svg xmlns=\"http://www.w3.org/2000/svg\" height=\"24px\" viewBox=\"0 -960 960 960\">\n",
              "    <path d=\"M120-120v-720h720v720H120Zm60-500h600v-160H180v160Zm220 220h160v-160H400v160Zm0 220h160v-160H400v160ZM180-400h160v-160H180v160Zm440 0h160v-160H620v160ZM180-180h160v-160H180v160Zm440 0h160v-160H620v160Z\"/>\n",
              "  </svg>\n",
              "    </button>\n",
              "\n",
              "  <style>\n",
              "    .colab-df-container {\n",
              "      display:flex;\n",
              "      gap: 12px;\n",
              "    }\n",
              "\n",
              "    .colab-df-convert {\n",
              "      background-color: #E8F0FE;\n",
              "      border: none;\n",
              "      border-radius: 50%;\n",
              "      cursor: pointer;\n",
              "      display: none;\n",
              "      fill: #1967D2;\n",
              "      height: 32px;\n",
              "      padding: 0 0 0 0;\n",
              "      width: 32px;\n",
              "    }\n",
              "\n",
              "    .colab-df-convert:hover {\n",
              "      background-color: #E2EBFA;\n",
              "      box-shadow: 0px 1px 2px rgba(60, 64, 67, 0.3), 0px 1px 3px 1px rgba(60, 64, 67, 0.15);\n",
              "      fill: #174EA6;\n",
              "    }\n",
              "\n",
              "    .colab-df-buttons div {\n",
              "      margin-bottom: 4px;\n",
              "    }\n",
              "\n",
              "    [theme=dark] .colab-df-convert {\n",
              "      background-color: #3B4455;\n",
              "      fill: #D2E3FC;\n",
              "    }\n",
              "\n",
              "    [theme=dark] .colab-df-convert:hover {\n",
              "      background-color: #434B5C;\n",
              "      box-shadow: 0px 1px 3px 1px rgba(0, 0, 0, 0.15);\n",
              "      filter: drop-shadow(0px 1px 2px rgba(0, 0, 0, 0.3));\n",
              "      fill: #FFFFFF;\n",
              "    }\n",
              "  </style>\n",
              "\n",
              "    <script>\n",
              "      const buttonEl =\n",
              "        document.querySelector('#df-2fa9ff1d-4aa9-4db5-b225-ac63053c305d button.colab-df-convert');\n",
              "      buttonEl.style.display =\n",
              "        google.colab.kernel.accessAllowed ? 'block' : 'none';\n",
              "\n",
              "      async function convertToInteractive(key) {\n",
              "        const element = document.querySelector('#df-2fa9ff1d-4aa9-4db5-b225-ac63053c305d');\n",
              "        const dataTable =\n",
              "          await google.colab.kernel.invokeFunction('convertToInteractive',\n",
              "                                                    [key], {});\n",
              "        if (!dataTable) return;\n",
              "\n",
              "        const docLinkHtml = 'Like what you see? Visit the ' +\n",
              "          '<a target=\"_blank\" href=https://colab.research.google.com/notebooks/data_table.ipynb>data table notebook</a>'\n",
              "          + ' to learn more about interactive tables.';\n",
              "        element.innerHTML = '';\n",
              "        dataTable['output_type'] = 'display_data';\n",
              "        await google.colab.output.renderOutput(dataTable, element);\n",
              "        const docLink = document.createElement('div');\n",
              "        docLink.innerHTML = docLinkHtml;\n",
              "        element.appendChild(docLink);\n",
              "      }\n",
              "    </script>\n",
              "  </div>\n",
              "\n",
              "\n",
              "<div id=\"df-f3fd2d03-9b6c-474a-9c1b-08d585388da8\">\n",
              "  <button class=\"colab-df-quickchart\" onclick=\"quickchart('df-f3fd2d03-9b6c-474a-9c1b-08d585388da8')\"\n",
              "            title=\"Suggest charts\"\n",
              "            style=\"display:none;\">\n",
              "\n",
              "<svg xmlns=\"http://www.w3.org/2000/svg\" height=\"24px\"viewBox=\"0 0 24 24\"\n",
              "     width=\"24px\">\n",
              "    <g>\n",
              "        <path d=\"M19 3H5c-1.1 0-2 .9-2 2v14c0 1.1.9 2 2 2h14c1.1 0 2-.9 2-2V5c0-1.1-.9-2-2-2zM9 17H7v-7h2v7zm4 0h-2V7h2v10zm4 0h-2v-4h2v4z\"/>\n",
              "    </g>\n",
              "</svg>\n",
              "  </button>\n",
              "\n",
              "<style>\n",
              "  .colab-df-quickchart {\n",
              "      --bg-color: #E8F0FE;\n",
              "      --fill-color: #1967D2;\n",
              "      --hover-bg-color: #E2EBFA;\n",
              "      --hover-fill-color: #174EA6;\n",
              "      --disabled-fill-color: #AAA;\n",
              "      --disabled-bg-color: #DDD;\n",
              "  }\n",
              "\n",
              "  [theme=dark] .colab-df-quickchart {\n",
              "      --bg-color: #3B4455;\n",
              "      --fill-color: #D2E3FC;\n",
              "      --hover-bg-color: #434B5C;\n",
              "      --hover-fill-color: #FFFFFF;\n",
              "      --disabled-bg-color: #3B4455;\n",
              "      --disabled-fill-color: #666;\n",
              "  }\n",
              "\n",
              "  .colab-df-quickchart {\n",
              "    background-color: var(--bg-color);\n",
              "    border: none;\n",
              "    border-radius: 50%;\n",
              "    cursor: pointer;\n",
              "    display: none;\n",
              "    fill: var(--fill-color);\n",
              "    height: 32px;\n",
              "    padding: 0;\n",
              "    width: 32px;\n",
              "  }\n",
              "\n",
              "  .colab-df-quickchart:hover {\n",
              "    background-color: var(--hover-bg-color);\n",
              "    box-shadow: 0 1px 2px rgba(60, 64, 67, 0.3), 0 1px 3px 1px rgba(60, 64, 67, 0.15);\n",
              "    fill: var(--button-hover-fill-color);\n",
              "  }\n",
              "\n",
              "  .colab-df-quickchart-complete:disabled,\n",
              "  .colab-df-quickchart-complete:disabled:hover {\n",
              "    background-color: var(--disabled-bg-color);\n",
              "    fill: var(--disabled-fill-color);\n",
              "    box-shadow: none;\n",
              "  }\n",
              "\n",
              "  .colab-df-spinner {\n",
              "    border: 2px solid var(--fill-color);\n",
              "    border-color: transparent;\n",
              "    border-bottom-color: var(--fill-color);\n",
              "    animation:\n",
              "      spin 1s steps(1) infinite;\n",
              "  }\n",
              "\n",
              "  @keyframes spin {\n",
              "    0% {\n",
              "      border-color: transparent;\n",
              "      border-bottom-color: var(--fill-color);\n",
              "      border-left-color: var(--fill-color);\n",
              "    }\n",
              "    20% {\n",
              "      border-color: transparent;\n",
              "      border-left-color: var(--fill-color);\n",
              "      border-top-color: var(--fill-color);\n",
              "    }\n",
              "    30% {\n",
              "      border-color: transparent;\n",
              "      border-left-color: var(--fill-color);\n",
              "      border-top-color: var(--fill-color);\n",
              "      border-right-color: var(--fill-color);\n",
              "    }\n",
              "    40% {\n",
              "      border-color: transparent;\n",
              "      border-right-color: var(--fill-color);\n",
              "      border-top-color: var(--fill-color);\n",
              "    }\n",
              "    60% {\n",
              "      border-color: transparent;\n",
              "      border-right-color: var(--fill-color);\n",
              "    }\n",
              "    80% {\n",
              "      border-color: transparent;\n",
              "      border-right-color: var(--fill-color);\n",
              "      border-bottom-color: var(--fill-color);\n",
              "    }\n",
              "    90% {\n",
              "      border-color: transparent;\n",
              "      border-bottom-color: var(--fill-color);\n",
              "    }\n",
              "  }\n",
              "</style>\n",
              "\n",
              "  <script>\n",
              "    async function quickchart(key) {\n",
              "      const quickchartButtonEl =\n",
              "        document.querySelector('#' + key + ' button');\n",
              "      quickchartButtonEl.disabled = true;  // To prevent multiple clicks.\n",
              "      quickchartButtonEl.classList.add('colab-df-spinner');\n",
              "      try {\n",
              "        const charts = await google.colab.kernel.invokeFunction(\n",
              "            'suggestCharts', [key], {});\n",
              "      } catch (error) {\n",
              "        console.error('Error during call to suggestCharts:', error);\n",
              "      }\n",
              "      quickchartButtonEl.classList.remove('colab-df-spinner');\n",
              "      quickchartButtonEl.classList.add('colab-df-quickchart-complete');\n",
              "    }\n",
              "    (() => {\n",
              "      let quickchartButtonEl =\n",
              "        document.querySelector('#df-f3fd2d03-9b6c-474a-9c1b-08d585388da8 button');\n",
              "      quickchartButtonEl.style.display =\n",
              "        google.colab.kernel.accessAllowed ? 'block' : 'none';\n",
              "    })();\n",
              "  </script>\n",
              "</div>\n",
              "    </div>\n",
              "  </div>\n"
            ],
            "application/vnd.google.colaboratory.intrinsic+json": {
              "type": "dataframe",
              "variable_name": "rent_df"
            }
          },
          "metadata": {},
          "execution_count": 7
        }
      ],
      "source": [
        "#viewing first 5 rows of the dataframe\n",
        "rent_df.head(5)"
      ]
    },
    {
      "cell_type": "markdown",
      "source": [
        "**IMPORTANT :** Please note that we dropped 3 meta-features which are features that has information about the dataset itself such as *time* (when data was created) , *source* (the source of each data point ) , *price\\_display* (the same price column but in integer format) upon loading our data as a pandas dataframe."
      ],
      "metadata": {
        "id": "eLRISG5KUI6P"
      }
    },
    {
      "cell_type": "code",
      "execution_count": 8,
      "metadata": {
        "id": "1iPt7aT_nWsK"
      },
      "outputs": [],
      "source": [
        "# deleteing meta-information columns\n",
        "rent_df = rent_df.drop(columns=[\"time\",\"source\",\"price_display\"])"
      ]
    },
    {
      "cell_type": "code",
      "execution_count": 9,
      "metadata": {
        "id": "uxhSdG_pRjFD",
        "colab": {
          "base_uri": "https://localhost:8080/"
        },
        "outputId": "3565fb07-03e6-4c40-835c-e0163367be9d"
      },
      "outputs": [
        {
          "output_type": "stream",
          "name": "stdout",
          "text": [
            "<class 'pandas.core.frame.DataFrame'>\n",
            "RangeIndex: 99826 entries, 0 to 99825\n",
            "Data columns (total 18 columns):\n",
            " #   Column        Non-Null Count  Dtype  \n",
            "---  ------        --------------  -----  \n",
            " 0   category      99826 non-null  object \n",
            " 1   title         99826 non-null  object \n",
            " 2   body          99826 non-null  object \n",
            " 3   amenities     83749 non-null  object \n",
            " 4   bathrooms     99760 non-null  object \n",
            " 5   bedrooms      99699 non-null  object \n",
            " 6   currency      99822 non-null  object \n",
            " 7   fee           99823 non-null  object \n",
            " 8   has_photo     99823 non-null  object \n",
            " 9   pets_allowed  39192 non-null  object \n",
            " 10  price         99821 non-null  float64\n",
            " 11  price_type    99823 non-null  object \n",
            " 12  square_feet   99823 non-null  object \n",
            " 13  address       7946 non-null   object \n",
            " 14  cityname      99521 non-null  object \n",
            " 15  state         99521 non-null  object \n",
            " 16  latitude      99797 non-null  float64\n",
            " 17  longitude     99795 non-null  float64\n",
            "dtypes: float64(3), object(15)\n",
            "memory usage: 13.7+ MB\n"
          ]
        }
      ],
      "source": [
        "# verifying our data\n",
        "rent_df.info()"
      ]
    },
    {
      "cell_type": "markdown",
      "metadata": {
        "id": "MaP4620WTseO"
      },
      "source": [
        "# Preprocessing"
      ]
    },
    {
      "cell_type": "markdown",
      "metadata": {
        "id": "cMJSR_s1TwOt"
      },
      "source": [
        "## I -  Data Cleaning :\n",
        "This is the part where we clean our data from all missing values and other problems in the following pipeline :  \n",
        "\n",
        "\n",
        "1.   **Handling Missing Values**\n",
        "2.   **Handling Duplicates**\n",
        "3.   **Dealing with Outliers**\n",
        "\n"
      ]
    },
    {
      "cell_type": "markdown",
      "metadata": {
        "id": "10y9rLsvWzon"
      },
      "source": [
        "### Handling Missing Values"
      ]
    },
    {
      "cell_type": "code",
      "execution_count": 10,
      "metadata": {
        "id": "TE6kH6tkSCGe"
      },
      "outputs": [],
      "source": [
        "# getting missing data percentage\n",
        "missing_perc = (rent_df.isnull().sum()/rent_df.shape[0])*100"
      ]
    },
    {
      "cell_type": "code",
      "source": [
        "# printing missing data percentage\n",
        "missing_perc"
      ],
      "metadata": {
        "id": "v5qSAW38CPVv",
        "colab": {
          "base_uri": "https://localhost:8080/"
        },
        "outputId": "5b5816fe-4fd7-4edd-98c8-280347319e7e"
      },
      "execution_count": 11,
      "outputs": [
        {
          "output_type": "execute_result",
          "data": {
            "text/plain": [
              "category         0.000000\n",
              "title            0.000000\n",
              "body             0.000000\n",
              "amenities       16.105023\n",
              "bathrooms        0.066115\n",
              "bedrooms         0.127221\n",
              "currency         0.004007\n",
              "fee              0.003005\n",
              "has_photo        0.003005\n",
              "pets_allowed    60.739687\n",
              "price            0.005009\n",
              "price_type       0.003005\n",
              "square_feet      0.003005\n",
              "address         92.040150\n",
              "cityname         0.305532\n",
              "state            0.305532\n",
              "latitude         0.029051\n",
              "longitude        0.031054\n",
              "dtype: float64"
            ]
          },
          "metadata": {},
          "execution_count": 11
        }
      ]
    },
    {
      "cell_type": "code",
      "source": [
        "# creating color ranges for missing data\n",
        "color_ranges = [(0, 10, 'green'), (10, 50, 'orange'), (50, 100, 'red')]\n",
        "\n",
        "# Assign colors based on ranges and create final color list\n",
        "final_colors = []\n",
        "for value in missing_perc.values:\n",
        "  for min_value, max_value, color in color_ranges:\n",
        "    if min_value <= value <= max_value:\n",
        "      final_colors.append(color)\n",
        "      break\n",
        "\n",
        "fig, ax = plt.subplots()\n",
        "bars = ax.barh(missing_perc.index, missing_perc.values,color=final_colors)\n",
        "ax.bar_label(bars)\n",
        "plt.title(\"Missing Values Percentage\");\n",
        "\n",
        "# coloring the y-labels for better context\n",
        "y_labels = plt.gca().get_yticklabels()\n",
        "for i, label in enumerate(y_labels):\n",
        "  label.set_color(final_colors[i])"
      ],
      "metadata": {
        "id": "1mMnc0fkCIuo",
        "colab": {
          "base_uri": "https://localhost:8080/",
          "height": 0
        },
        "outputId": "3958fbd7-4dff-4c8e-8490-9c2447d3f17f"
      },
      "execution_count": 12,
      "outputs": [
        {
          "output_type": "display_data",
          "data": {
            "text/plain": [
              "<Figure size 640x480 with 1 Axes>"
            ],
            "image/png": "[encoded data removed]"
          },
          "metadata": {}
        }
      ]
    },
    {
      "cell_type": "code",
      "execution_count": 13,
      "metadata": {
        "id": "58aVUNgdT5v6"
      },
      "outputs": [],
      "source": [
        "# dropping columns with high missing values percentage\n",
        "rent_df.drop(columns=[\"address\",\"pets_allowed\"],inplace=True)"
      ]
    },
    {
      "cell_type": "code",
      "execution_count": 14,
      "metadata": {
        "id": "aGNLrzJYVi6B"
      },
      "outputs": [],
      "source": [
        "# dropping the rest of the missing rows\n",
        "rent_df = rent_df.dropna()"
      ]
    },
    {
      "cell_type": "code",
      "execution_count": 15,
      "metadata": {
        "id": "SJrdl5VCWIlr",
        "colab": {
          "base_uri": "https://localhost:8080/"
        },
        "outputId": "ae4beb30-9845-4872-879b-f1decc99db25"
      },
      "outputs": [
        {
          "output_type": "stream",
          "name": "stdout",
          "text": [
            "<class 'pandas.core.frame.DataFrame'>\n",
            "Index: 83464 entries, 21 to 99825\n",
            "Data columns (total 16 columns):\n",
            " #   Column       Non-Null Count  Dtype  \n",
            "---  ------       --------------  -----  \n",
            " 0   category     83464 non-null  object \n",
            " 1   title        83464 non-null  object \n",
            " 2   body         83464 non-null  object \n",
            " 3   amenities    83464 non-null  object \n",
            " 4   bathrooms    83464 non-null  object \n",
            " 5   bedrooms     83464 non-null  object \n",
            " 6   currency     83464 non-null  object \n",
            " 7   fee          83464 non-null  object \n",
            " 8   has_photo    83464 non-null  object \n",
            " 9   price        83464 non-null  float64\n",
            " 10  price_type   83464 non-null  object \n",
            " 11  square_feet  83464 non-null  object \n",
            " 12  cityname     83464 non-null  object \n",
            " 13  state        83464 non-null  object \n",
            " 14  latitude     83464 non-null  float64\n",
            " 15  longitude    83464 non-null  float64\n",
            "dtypes: float64(3), object(13)\n",
            "memory usage: 10.8+ MB\n"
          ]
        }
      ],
      "source": [
        "# investigating the new data size\n",
        "rent_df.info()"
      ]
    },
    {
      "cell_type": "markdown",
      "metadata": {
        "id": "IHLojh-ey-wX"
      },
      "source": [
        "### Handling Duplicates :"
      ]
    },
    {
      "cell_type": "code",
      "execution_count": 16,
      "metadata": {
        "id": "qwxBxD8lrreM",
        "colab": {
          "base_uri": "https://localhost:8080/"
        },
        "outputId": "231c31c1-c973-4b7e-8100-53908189da4b"
      },
      "outputs": [
        {
          "output_type": "stream",
          "name": "stdout",
          "text": [
            "we have 73 duplicate rows\n"
          ]
        }
      ],
      "source": [
        "# removing duplicates from our data\n",
        "duplicate_counts = rent_df.duplicated(keep='first').sum() - 1\n",
        "\n",
        "print(f\"we have {duplicate_counts} duplicate rows\")\n",
        "\n",
        "rent_df = rent_df.drop_duplicates()"
      ]
    },
    {
      "cell_type": "code",
      "execution_count": 17,
      "metadata": {
        "id": "jxRJowD9le9T",
        "colab": {
          "base_uri": "https://localhost:8080/",
          "height": 0
        },
        "outputId": "d86a3ad0-c2b2-4122-a7cc-7b5cd2340b7f"
      },
      "outputs": [
        {
          "output_type": "execute_result",
          "data": {
            "text/plain": [
              "                  category                        title  \\\n",
              "21  housing/rent/apartment      One BR 7011 W PARMER LN   \n",
              "22  housing/rent/apartment       One BR 2800 SUNRISE RD   \n",
              "23  housing/rent/apartment    One BR 12330 METRIC BLVD.   \n",
              "24  housing/rent/apartment     One BR 8021 FM 620 NORTH   \n",
              "25  housing/rent/apartment  One BR 11500 JOLLYVILLE RD.   \n",
              "\n",
              "                                                 body  \\\n",
              "21  This unit is located at 7011 W PARMER LN, Aust...   \n",
              "22  This unit is located at 2800 SUNRISE RD, Round...   \n",
              "23  This unit is located at 12330 METRIC BLVD., Au...   \n",
              "24  This unit is located at 8021 FM 620 NORTH, Aus...   \n",
              "25  This unit is located at 11500 JOLLYVILLE RD., ...   \n",
              "\n",
              "                                         amenities bathrooms bedrooms  \\\n",
              "21  Fireplace,Gym,Parking,Pool,Storage,Wood Floors         1        1   \n",
              "22                                      Gated,Pool         1        1   \n",
              "23                         Dishwasher,Parking,Pool         1        1   \n",
              "24                         Dishwasher,Parking,Pool         1        1   \n",
              "25                                        Gym,Pool         1        1   \n",
              "\n",
              "   currency fee  has_photo   price price_type square_feet    cityname state  \\\n",
              "21      USD  No  Thumbnail  1060.0    Monthly         650      Austin    TX   \n",
              "22      USD  No  Thumbnail  1003.0    Monthly         797  Round Rock    TX   \n",
              "23      USD  No  Thumbnail   837.0    Monthly         444      Austin    TX   \n",
              "24      USD  No  Thumbnail  1020.0    Monthly         692      Austin    TX   \n",
              "25      USD  No  Thumbnail   985.0    Monthly         693      Austin    TX   \n",
              "\n",
              "    latitude  longitude  \n",
              "21   30.3054   -97.7497  \n",
              "22   30.5118   -97.6873  \n",
              "23   30.3054   -97.7497  \n",
              "24   30.3054   -97.7497  \n",
              "25   30.3054   -97.7497  "
            ],
            "text/html": [
              "\n",
              "  <div id=\"df-cb68b6f6-1927-49dd-8665-3919a62eaae1\" class=\"colab-df-container\">\n",
              "    <div>\n",
              "<style scoped>\n",
              "    .dataframe tbody tr th:only-of-type {\n",
              "        vertical-align: middle;\n",
              "    }\n",
              "\n",
              "    .dataframe tbody tr th {\n",
              "        vertical-align: top;\n",
              "    }\n",
              "\n",
              "    .dataframe thead th {\n",
              "        text-align: right;\n",
              "    }\n",
              "</style>\n",
              "<table border=\"1\" class=\"dataframe\">\n",
              "  <thead>\n",
              "    <tr style=\"text-align: right;\">\n",
              "      <th></th>\n",
              "      <th>category</th>\n",
              "      <th>title</th>\n",
              "      <th>body</th>\n",
              "      <th>amenities</th>\n",
              "      <th>bathrooms</th>\n",
              "      <th>bedrooms</th>\n",
              "      <th>currency</th>\n",
              "      <th>fee</th>\n",
              "      <th>has_photo</th>\n",
              "      <th>price</th>\n",
              "      <th>price_type</th>\n",
              "      <th>square_feet</th>\n",
              "      <th>cityname</th>\n",
              "      <th>state</th>\n",
              "      <th>latitude</th>\n",
              "      <th>longitude</th>\n",
              "    </tr>\n",
              "  </thead>\n",
              "  <tbody>\n",
              "    <tr>\n",
              "      <th>21</th>\n",
              "      <td>housing/rent/apartment</td>\n",
              "      <td>One BR 7011 W PARMER LN</td>\n",
              "      <td>This unit is located at 7011 W PARMER LN, Aust...</td>\n",
              "      <td>Fireplace,Gym,Parking,Pool,Storage,Wood Floors</td>\n",
              "      <td>1</td>\n",
              "      <td>1</td>\n",
              "      <td>USD</td>\n",
              "      <td>No</td>\n",
              "      <td>Thumbnail</td>\n",
              "      <td>1060.0</td>\n",
              "      <td>Monthly</td>\n",
              "      <td>650</td>\n",
              "      <td>Austin</td>\n",
              "      <td>TX</td>\n",
              "      <td>30.3054</td>\n",
              "      <td>-97.7497</td>\n",
              "    </tr>\n",
              "    <tr>\n",
              "      <th>22</th>\n",
              "      <td>housing/rent/apartment</td>\n",
              "      <td>One BR 2800 SUNRISE RD</td>\n",
              "      <td>This unit is located at 2800 SUNRISE RD, Round...</td>\n",
              "      <td>Gated,Pool</td>\n",
              "      <td>1</td>\n",
              "      <td>1</td>\n",
              "      <td>USD</td>\n",
              "      <td>No</td>\n",
              "      <td>Thumbnail</td>\n",
              "      <td>1003.0</td>\n",
              "      <td>Monthly</td>\n",
              "      <td>797</td>\n",
              "      <td>Round Rock</td>\n",
              "      <td>TX</td>\n",
              "      <td>30.5118</td>\n",
              "      <td>-97.6873</td>\n",
              "    </tr>\n",
              "    <tr>\n",
              "      <th>23</th>\n",
              "      <td>housing/rent/apartment</td>\n",
              "      <td>One BR 12330 METRIC BLVD.</td>\n",
              "      <td>This unit is located at 12330 METRIC BLVD., Au...</td>\n",
              "      <td>Dishwasher,Parking,Pool</td>\n",
              "      <td>1</td>\n",
              "      <td>1</td>\n",
              "      <td>USD</td>\n",
              "      <td>No</td>\n",
              "      <td>Thumbnail</td>\n",
              "      <td>837.0</td>\n",
              "      <td>Monthly</td>\n",
              "      <td>444</td>\n",
              "      <td>Austin</td>\n",
              "      <td>TX</td>\n",
              "      <td>30.3054</td>\n",
              "      <td>-97.7497</td>\n",
              "    </tr>\n",
              "    <tr>\n",
              "      <th>24</th>\n",
              "      <td>housing/rent/apartment</td>\n",
              "      <td>One BR 8021 FM 620 NORTH</td>\n",
              "      <td>This unit is located at 8021 FM 620 NORTH, Aus...</td>\n",
              "      <td>Dishwasher,Parking,Pool</td>\n",
              "      <td>1</td>\n",
              "      <td>1</td>\n",
              "      <td>USD</td>\n",
              "      <td>No</td>\n",
              "      <td>Thumbnail</td>\n",
              "      <td>1020.0</td>\n",
              "      <td>Monthly</td>\n",
              "      <td>692</td>\n",
              "      <td>Austin</td>\n",
              "      <td>TX</td>\n",
              "      <td>30.3054</td>\n",
              "      <td>-97.7497</td>\n",
              "    </tr>\n",
              "    <tr>\n",
              "      <th>25</th>\n",
              "      <td>housing/rent/apartment</td>\n",
              "      <td>One BR 11500 JOLLYVILLE RD.</td>\n",
              "      <td>This unit is located at 11500 JOLLYVILLE RD., ...</td>\n",
              "      <td>Gym,Pool</td>\n",
              "      <td>1</td>\n",
              "      <td>1</td>\n",
              "      <td>USD</td>\n",
              "      <td>No</td>\n",
              "      <td>Thumbnail</td>\n",
              "      <td>985.0</td>\n",
              "      <td>Monthly</td>\n",
              "      <td>693</td>\n",
              "      <td>Austin</td>\n",
              "      <td>TX</td>\n",
              "      <td>30.3054</td>\n",
              "      <td>-97.7497</td>\n",
              "    </tr>\n",
              "  </tbody>\n",
              "</table>\n",
              "</div>\n",
              "    <div class=\"colab-df-buttons\">\n",
              "\n",
              "  <div class=\"colab-df-container\">\n",
              "    <button class=\"colab-df-convert\" onclick=\"convertToInteractive('df-cb68b6f6-1927-49dd-8665-3919a62eaae1')\"\n",
              "            title=\"Convert this dataframe to an interactive table.\"\n",
              "            style=\"display:none;\">\n",
              "\n",
              "  <svg xmlns=\"http://www.w3.org/2000/svg\" height=\"24px\" viewBox=\"0 -960 960 960\">\n",
              "    <path d=\"M120-120v-720h720v720H120Zm60-500h600v-160H180v160Zm220 220h160v-160H400v160Zm0 220h160v-160H400v160ZM180-400h160v-160H180v160Zm440 0h160v-160H620v160ZM180-180h160v-160H180v160Zm440 0h160v-160H620v160Z\"/>\n",
              "  </svg>\n",
              "    </button>\n",
              "\n",
              "  <style>\n",
              "    .colab-df-container {\n",
              "      display:flex;\n",
              "      gap: 12px;\n",
              "    }\n",
              "\n",
              "    .colab-df-convert {\n",
              "      background-color: #E8F0FE;\n",
              "      border: none;\n",
              "      border-radius: 50%;\n",
              "      cursor: pointer;\n",
              "      display: none;\n",
              "      fill: #1967D2;\n",
              "      height: 32px;\n",
              "      padding: 0 0 0 0;\n",
              "      width: 32px;\n",
              "    }\n",
              "\n",
              "    .colab-df-convert:hover {\n",
              "      background-color: #E2EBFA;\n",
              "      box-shadow: 0px 1px 2px rgba(60, 64, 67, 0.3), 0px 1px 3px 1px rgba(60, 64, 67, 0.15);\n",
              "      fill: #174EA6;\n",
              "    }\n",
              "\n",
              "    .colab-df-buttons div {\n",
              "      margin-bottom: 4px;\n",
              "    }\n",
              "\n",
              "    [theme=dark] .colab-df-convert {\n",
              "      background-color: #3B4455;\n",
              "      fill: #D2E3FC;\n",
              "    }\n",
              "\n",
              "    [theme=dark] .colab-df-convert:hover {\n",
              "      background-color: #434B5C;\n",
              "      box-shadow: 0px 1px 3px 1px rgba(0, 0, 0, 0.15);\n",
              "      filter: drop-shadow(0px 1px 2px rgba(0, 0, 0, 0.3));\n",
              "      fill: #FFFFFF;\n",
              "    }\n",
              "  </style>\n",
              "\n",
              "    <script>\n",
              "      const buttonEl =\n",
              "        document.querySelector('#df-cb68b6f6-1927-49dd-8665-3919a62eaae1 button.colab-df-convert');\n",
              "      buttonEl.style.display =\n",
              "        google.colab.kernel.accessAllowed ? 'block' : 'none';\n",
              "\n",
              "      async function convertToInteractive(key) {\n",
              "        const element = document.querySelector('#df-cb68b6f6-1927-49dd-8665-3919a62eaae1');\n",
              "        const dataTable =\n",
              "          await google.colab.kernel.invokeFunction('convertToInteractive',\n",
              "                                                    [key], {});\n",
              "        if (!dataTable) return;\n",
              "\n",
              "        const docLinkHtml = 'Like what you see? Visit the ' +\n",
              "          '<a target=\"_blank\" href=https://colab.research.google.com/notebooks/data_table.ipynb>data table notebook</a>'\n",
              "          + ' to learn more about interactive tables.';\n",
              "        element.innerHTML = '';\n",
              "        dataTable['output_type'] = 'display_data';\n",
              "        await google.colab.output.renderOutput(dataTable, element);\n",
              "        const docLink = document.createElement('div');\n",
              "        docLink.innerHTML = docLinkHtml;\n",
              "        element.appendChild(docLink);\n",
              "      }\n",
              "    </script>\n",
              "  </div>\n",
              "\n",
              "\n",
              "<div id=\"df-0c120764-c3b7-4838-8c35-9859e0ff62f5\">\n",
              "  <button class=\"colab-df-quickchart\" onclick=\"quickchart('df-0c120764-c3b7-4838-8c35-9859e0ff62f5')\"\n",
              "            title=\"Suggest charts\"\n",
              "            style=\"display:none;\">\n",
              "\n",
              "<svg xmlns=\"http://www.w3.org/2000/svg\" height=\"24px\"viewBox=\"0 0 24 24\"\n",
              "     width=\"24px\">\n",
              "    <g>\n",
              "        <path d=\"M19 3H5c-1.1 0-2 .9-2 2v14c0 1.1.9 2 2 2h14c1.1 0 2-.9 2-2V5c0-1.1-.9-2-2-2zM9 17H7v-7h2v7zm4 0h-2V7h2v10zm4 0h-2v-4h2v4z\"/>\n",
              "    </g>\n",
              "</svg>\n",
              "  </button>\n",
              "\n",
              "<style>\n",
              "  .colab-df-quickchart {\n",
              "      --bg-color: #E8F0FE;\n",
              "      --fill-color: #1967D2;\n",
              "      --hover-bg-color: #E2EBFA;\n",
              "      --hover-fill-color: #174EA6;\n",
              "      --disabled-fill-color: #AAA;\n",
              "      --disabled-bg-color: #DDD;\n",
              "  }\n",
              "\n",
              "  [theme=dark] .colab-df-quickchart {\n",
              "      --bg-color: #3B4455;\n",
              "      --fill-color: #D2E3FC;\n",
              "      --hover-bg-color: #434B5C;\n",
              "      --hover-fill-color: #FFFFFF;\n",
              "      --disabled-bg-color: #3B4455;\n",
              "      --disabled-fill-color: #666;\n",
              "  }\n",
              "\n",
              "  .colab-df-quickchart {\n",
              "    background-color: var(--bg-color);\n",
              "    border: none;\n",
              "    border-radius: 50%;\n",
              "    cursor: pointer;\n",
              "    display: none;\n",
              "    fill: var(--fill-color);\n",
              "    height: 32px;\n",
              "    padding: 0;\n",
              "    width: 32px;\n",
              "  }\n",
              "\n",
              "  .colab-df-quickchart:hover {\n",
              "    background-color: var(--hover-bg-color);\n",
              "    box-shadow: 0 1px 2px rgba(60, 64, 67, 0.3), 0 1px 3px 1px rgba(60, 64, 67, 0.15);\n",
              "    fill: var(--button-hover-fill-color);\n",
              "  }\n",
              "\n",
              "  .colab-df-quickchart-complete:disabled,\n",
              "  .colab-df-quickchart-complete:disabled:hover {\n",
              "    background-color: var(--disabled-bg-color);\n",
              "    fill: var(--disabled-fill-color);\n",
              "    box-shadow: none;\n",
              "  }\n",
              "\n",
              "  .colab-df-spinner {\n",
              "    border: 2px solid var(--fill-color);\n",
              "    border-color: transparent;\n",
              "    border-bottom-color: var(--fill-color);\n",
              "    animation:\n",
              "      spin 1s steps(1) infinite;\n",
              "  }\n",
              "\n",
              "  @keyframes spin {\n",
              "    0% {\n",
              "      border-color: transparent;\n",
              "      border-bottom-color: var(--fill-color);\n",
              "      border-left-color: var(--fill-color);\n",
              "    }\n",
              "    20% {\n",
              "      border-color: transparent;\n",
              "      border-left-color: var(--fill-color);\n",
              "      border-top-color: var(--fill-color);\n",
              "    }\n",
              "    30% {\n",
              "      border-color: transparent;\n",
              "      border-left-color: var(--fill-color);\n",
              "      border-top-color: var(--fill-color);\n",
              "      border-right-color: var(--fill-color);\n",
              "    }\n",
              "    40% {\n",
              "      border-color: transparent;\n",
              "      border-right-color: var(--fill-color);\n",
              "      border-top-color: var(--fill-color);\n",
              "    }\n",
              "    60% {\n",
              "      border-color: transparent;\n",
              "      border-right-color: var(--fill-color);\n",
              "    }\n",
              "    80% {\n",
              "      border-color: transparent;\n",
              "      border-right-color: var(--fill-color);\n",
              "      border-bottom-color: var(--fill-color);\n",
              "    }\n",
              "    90% {\n",
              "      border-color: transparent;\n",
              "      border-bottom-color: var(--fill-color);\n",
              "    }\n",
              "  }\n",
              "</style>\n",
              "\n",
              "  <script>\n",
              "    async function quickchart(key) {\n",
              "      const quickchartButtonEl =\n",
              "        document.querySelector('#' + key + ' button');\n",
              "      quickchartButtonEl.disabled = true;  // To prevent multiple clicks.\n",
              "      quickchartButtonEl.classList.add('colab-df-spinner');\n",
              "      try {\n",
              "        const charts = await google.colab.kernel.invokeFunction(\n",
              "            'suggestCharts', [key], {});\n",
              "      } catch (error) {\n",
              "        console.error('Error during call to suggestCharts:', error);\n",
              "      }\n",
              "      quickchartButtonEl.classList.remove('colab-df-spinner');\n",
              "      quickchartButtonEl.classList.add('colab-df-quickchart-complete');\n",
              "    }\n",
              "    (() => {\n",
              "      let quickchartButtonEl =\n",
              "        document.querySelector('#df-0c120764-c3b7-4838-8c35-9859e0ff62f5 button');\n",
              "      quickchartButtonEl.style.display =\n",
              "        google.colab.kernel.accessAllowed ? 'block' : 'none';\n",
              "    })();\n",
              "  </script>\n",
              "</div>\n",
              "    </div>\n",
              "  </div>\n"
            ],
            "application/vnd.google.colaboratory.intrinsic+json": {
              "type": "dataframe",
              "variable_name": "rent_df",
              "summary": "{\n  \"name\": \"rent_df\",\n  \"rows\": 83390,\n  \"fields\": [\n    {\n      \"column\": \"category\",\n      \"properties\": {\n        \"dtype\": \"category\",\n        \"num_unique_values\": 7,\n        \"samples\": [\n          \"housing/rent/apartment\",\n          \"housing/rent/home\",\n          \"housing/rent/other\"\n        ],\n        \"semantic_type\": \"\",\n        \"description\": \"\"\n      }\n    },\n    {\n      \"column\": \"title\",\n      \"properties\": {\n        \"dtype\": \"string\",\n        \"num_unique_values\": 48946,\n        \"samples\": [\n          \"Apartment in quiet area, spacious with big kitchen. $959/mo\",\n          \"Covington, Two BR, One BA for rent\",\n          \"One BR Apartment - Welcome home to Thornhill Park. Carport parking!\"\n        ],\n        \"semantic_type\": \"\",\n        \"description\": \"\"\n      }\n    },\n    {\n      \"column\": \"body\",\n      \"properties\": {\n        \"dtype\": \"string\",\n        \"num_unique_values\": 78942,\n        \"samples\": [\n          \"Square footage: 1150 sq. feet, unit number: 25. Beautiful landscaping and large green friendly areas make walking the community a delight. Where else in the South Bay do you have grassy knolls, large shady ficus trees that shade you as you partake in the many splendid views and s that El Cordova has to offer five Picnic Areas with State-of-the-Art BBQs, 50 Cascading Fountains, Apartments Surround Large, Landscaped Courtyards, Carport, Courtesy Patrol, Ct. yard, Dog Run, Free Weights, Gated Access Community, Laundry Facilities, Lush, Parklike Landscaping With Mature Trees, New Outdoor Fitness facilities, Recently updated, 1500 ft Fitness facilities, Off Street parking, On-Site Maintenance, Management office onsite, Outdoor Sport, Play-area, Public Transportation, Relaxing Dry Sauna, Reserved Sheltered parking, Short-term Lease, Spa/Hot Bath-tub, Spanish Speaking Staff, Swimming Pool And Hydrotherapy Bubbling Spa With Pool Side Picnic Tables and BBQs, Ac, Brushed Nickel Fixtures, Cable Ready, Carpeting\",\n          \"Square footage: 1053 sq. feet, unit number: 1321. Located in the heart of Seminole Heights, 1 of the most desirable neighborhoods in Tampa, the perfect addition to the eclectic and energetic area. Our pet friendly community features amenities such as an outdoor entertainment court yard, bike storage, garage parking and fiber internet available the day you move in, all while being just steps away from some of the best dining, shopping and entertainment in the neighborhood. Income Requirement: Must have 3. 0x the rent in total household income before taxes, include income from all adults. Utilities included: Gas. Additional Charges: Renter's insurance required, Valet Trash- $25 per month. Pet restrictions: No weight limit, breed restrictions list. Parking Information: Covered Garage Parking available-$100 per sheltered parking spot Surface Lot parking, free, one per lease holder. Storage Info: Storage Units available- pricing to be determined.\",\n          \"Square footage: 1209 square ft, unit number: 322. At Club Apartments, we offer studio, one, two, and three beds apartments and uniquely designed, 2 level buildings with unique townhome-style private entries. We ve designed our. Other lease term options available with price depending.Price range: $1201 - $1394. More units available: one Bd / 1 Bedrooms 760 sq-ft for $1,125/mo | one Bd / 1 Bedrooms 830 square ft for $1,110/mo | one Bd / 1 Bedrooms 830 sq-ft for $1,165/mo | one Bd / 1 Bedrooms 933 sq-ft for $1,145/mo | two Bd / 2 Bedrooms 1,202 square feet for $1,236/mo | two Bd / 2 Bedrooms 1,202 sq. feet for $1,231/mo | two Bd / 2 Bedrooms 1,202 square feet for $1,251/mo | one Bd / 1 Bedrooms 797 square ft for $1,297/mo | three Bd / 2 Bedrooms 1,334 square feet for $1,811/mo | three Bd / 2 Bedrooms 1,434 square feet for $1,700/mo |\"\n        ],\n        \"semantic_type\": \"\",\n        \"description\": \"\"\n      }\n    },\n    {\n      \"column\": \"amenities\",\n      \"properties\": {\n        \"dtype\": \"category\",\n        \"num_unique_values\": 9805,\n        \"samples\": [\n          \"Cable or Satellite,Internet Access,Parking,Pool,TV,Tennis,Washer Dryer\",\n          \"Gym,Internet Access,Parking,Patio/Deck,Washer Dryer\",\n          \"Basketball,Clubhouse,Gated,Patio/Deck,Pool,Tennis\"\n        ],\n        \"semantic_type\": \"\",\n        \"description\": \"\"\n      }\n    },\n    {\n      \"column\": \"bathrooms\",\n      \"properties\": {\n        \"dtype\": \"category\",\n        \"num_unique_values\": 23,\n        \"samples\": [\n          1.0,\n          \"6\",\n          \"1\"\n        ],\n        \"semantic_type\": \"\",\n        \"description\": \"\"\n      }\n    },\n    {\n      \"column\": \"bedrooms\",\n      \"properties\": {\n        \"dtype\": \"category\",\n        \"num_unique_values\": 16,\n        \"samples\": [\n          \"1\",\n          \"5\",\n          \"0\"\n        ],\n        \"semantic_type\": \"\",\n        \"description\": \"\"\n      }\n    },\n    {\n      \"column\": \"currency\",\n      \"properties\": {\n        \"dtype\": \"category\",\n        \"num_unique_values\": 1,\n        \"samples\": [\n          \"USD\"\n        ],\n        \"semantic_type\": \"\",\n        \"description\": \"\"\n      }\n    },\n    {\n      \"column\": \"fee\",\n      \"properties\": {\n        \"dtype\": \"category\",\n        \"num_unique_values\": 2,\n        \"samples\": [\n          \"Yes\"\n        ],\n        \"semantic_type\": \"\",\n        \"description\": \"\"\n      }\n    },\n    {\n      \"column\": \"has_photo\",\n      \"properties\": {\n        \"dtype\": \"category\",\n        \"num_unique_values\": 3,\n        \"samples\": [\n          \"Thumbnail\"\n        ],\n        \"semantic_type\": \"\",\n        \"description\": \"\"\n      }\n    },\n    {\n      \"column\": \"price\",\n      \"properties\": {\n        \"dtype\": \"number\",\n        \"std\": 902.3111940516152,\n        \"min\": 100.0,\n        \"max\": 52500.0,\n        \"num_unique_values\": 3538,\n        \"samples\": [\n          2196.0\n        ],\n        \"semantic_type\": \"\",\n        \"description\": \"\"\n      }\n    },\n    {\n      \"column\": \"price_type\",\n      \"properties\": {\n        \"dtype\": \"category\",\n        \"num_unique_values\": 2,\n        \"samples\": [\n          \"Weekly\"\n        ],\n        \"semantic_type\": \"\",\n        \"description\": \"\"\n      }\n    },\n    {\n      \"column\": \"square_feet\",\n      \"properties\": {\n        \"dtype\": \"category\",\n        \"num_unique_values\": 3719,\n        \"samples\": [\n          \"313\"\n        ],\n        \"semantic_type\": \"\",\n        \"description\": \"\"\n      }\n    },\n    {\n      \"column\": \"cityname\",\n      \"properties\": {\n        \"dtype\": \"category\",\n        \"num_unique_values\": 2673,\n        \"samples\": [\n          \"Blacksburg\"\n        ],\n        \"semantic_type\": \"\",\n        \"description\": \"\"\n      }\n    },\n    {\n      \"column\": \"state\",\n      \"properties\": {\n        \"dtype\": \"category\",\n        \"num_unique_values\": 51,\n        \"samples\": [\n          \"MT\"\n        ],\n        \"semantic_type\": \"\",\n        \"description\": \"\"\n      }\n    },\n    {\n      \"column\": \"latitude\",\n      \"properties\": {\n        \"dtype\": \"number\",\n        \"std\": 4.585467620792071,\n        \"min\": 19.5738,\n        \"max\": 64.8332,\n        \"num_unique_values\": 6495,\n        \"samples\": [\n          39.7316\n        ],\n        \"semantic_type\": \"\",\n        \"description\": \"\"\n      }\n    },\n    {\n      \"column\": \"longitude\",\n      \"properties\": {\n        \"dtype\": \"number\",\n        \"std\": 15.723923835948648,\n        \"min\": -159.3698,\n        \"max\": -68.7788,\n        \"num_unique_values\": 6549,\n        \"samples\": [\n          -78.3386\n        ],\n        \"semantic_type\": \"\",\n        \"description\": \"\"\n      }\n    }\n  ]\n}"
            }
          },
          "metadata": {},
          "execution_count": 17
        }
      ],
      "source": [
        "# investigating the first 5 rows\n",
        "rent_df.head(5)"
      ]
    },
    {
      "cell_type": "markdown",
      "metadata": {
        "id": "iYDDDqyJWYhT"
      },
      "source": [
        "### Dealing With Outliers :"
      ]
    },
    {
      "cell_type": "code",
      "execution_count": 18,
      "metadata": {
        "id": "koJAvxXbWc1C"
      },
      "outputs": [],
      "source": [
        "# getting the float datatype columns\n",
        "float_dtypes = rent_df.select_dtypes(include=[np.float64])"
      ]
    },
    {
      "cell_type": "code",
      "execution_count": 19,
      "metadata": {
        "id": "Tq2u3TpZXzWd",
        "colab": {
          "base_uri": "https://localhost:8080/",
          "height": 0
        },
        "outputId": "0698be83-dab4-437a-db13-28407f27dac4"
      },
      "outputs": [
        {
          "output_type": "execute_result",
          "data": {
            "text/plain": [
              "        price  latitude  longitude\n",
              "21     1060.0   30.3054   -97.7497\n",
              "22     1003.0   30.5118   -97.6873\n",
              "23      837.0   30.3054   -97.7497\n",
              "24     1020.0   30.3054   -97.7497\n",
              "25      985.0   30.3054   -97.7497\n",
              "...       ...       ...        ...\n",
              "99821   780.0   29.6151   -95.1998\n",
              "99822   813.0   30.2254   -81.7579\n",
              "99823  1325.0   32.7379  -117.0914\n",
              "99824   931.0   35.4158   -80.8451\n",
              "99825  1595.0   32.7379  -117.0914\n",
              "\n",
              "[83390 rows x 3 columns]"
            ],
            "text/html": [
              "\n",
              "  <div id=\"df-bf29a3a3-e977-44ed-886d-669d5890ba9f\" class=\"colab-df-container\">\n",
              "    <div>\n",
              "<style scoped>\n",
              "    .dataframe tbody tr th:only-of-type {\n",
              "        vertical-align: middle;\n",
              "    }\n",
              "\n",
              "    .dataframe tbody tr th {\n",
              "        vertical-align: top;\n",
              "    }\n",
              "\n",
              "    .dataframe thead th {\n",
              "        text-align: right;\n",
              "    }\n",
              "</style>\n",
              "<table border=\"1\" class=\"dataframe\">\n",
              "  <thead>\n",
              "    <tr style=\"text-align: right;\">\n",
              "      <th></th>\n",
              "      <th>price</th>\n",
              "      <th>latitude</th>\n",
              "      <th>longitude</th>\n",
              "    </tr>\n",
              "  </thead>\n",
              "  <tbody>\n",
              "    <tr>\n",
              "      <th>21</th>\n",
              "      <td>1060.0</td>\n",
              "      <td>30.3054</td>\n",
              "      <td>-97.7497</td>\n",
              "    </tr>\n",
              "    <tr>\n",
              "      <th>22</th>\n",
              "      <td>1003.0</td>\n",
              "      <td>30.5118</td>\n",
              "      <td>-97.6873</td>\n",
              "    </tr>\n",
              "    <tr>\n",
              "      <th>23</th>\n",
              "      <td>837.0</td>\n",
              "      <td>30.3054</td>\n",
              "      <td>-97.7497</td>\n",
              "    </tr>\n",
              "    <tr>\n",
              "      <th>24</th>\n",
              "      <td>1020.0</td>\n",
              "      <td>30.3054</td>\n",
              "      <td>-97.7497</td>\n",
              "    </tr>\n",
              "    <tr>\n",
              "      <th>25</th>\n",
              "      <td>985.0</td>\n",
              "      <td>30.3054</td>\n",
              "      <td>-97.7497</td>\n",
              "    </tr>\n",
              "    <tr>\n",
              "      <th>...</th>\n",
              "      <td>...</td>\n",
              "      <td>...</td>\n",
              "      <td>...</td>\n",
              "    </tr>\n",
              "    <tr>\n",
              "      <th>99821</th>\n",
              "      <td>780.0</td>\n",
              "      <td>29.6151</td>\n",
              "      <td>-95.1998</td>\n",
              "    </tr>\n",
              "    <tr>\n",
              "      <th>99822</th>\n",
              "      <td>813.0</td>\n",
              "      <td>30.2254</td>\n",
              "      <td>-81.7579</td>\n",
              "    </tr>\n",
              "    <tr>\n",
              "      <th>99823</th>\n",
              "      <td>1325.0</td>\n",
              "      <td>32.7379</td>\n",
              "      <td>-117.0914</td>\n",
              "    </tr>\n",
              "    <tr>\n",
              "      <th>99824</th>\n",
              "      <td>931.0</td>\n",
              "      <td>35.4158</td>\n",
              "      <td>-80.8451</td>\n",
              "    </tr>\n",
              "    <tr>\n",
              "      <th>99825</th>\n",
              "      <td>1595.0</td>\n",
              "      <td>32.7379</td>\n",
              "      <td>-117.0914</td>\n",
              "    </tr>\n",
              "  </tbody>\n",
              "</table>\n",
              "<p>83390 rows × 3 columns</p>\n",
              "</div>\n",
              "    <div class=\"colab-df-buttons\">\n",
              "\n",
              "  <div class=\"colab-df-container\">\n",
              "    <button class=\"colab-df-convert\" onclick=\"convertToInteractive('df-bf29a3a3-e977-44ed-886d-669d5890ba9f')\"\n",
              "            title=\"Convert this dataframe to an interactive table.\"\n",
              "            style=\"display:none;\">\n",
              "\n",
              "  <svg xmlns=\"http://www.w3.org/2000/svg\" height=\"24px\" viewBox=\"0 -960 960 960\">\n",
              "    <path d=\"M120-120v-720h720v720H120Zm60-500h600v-160H180v160Zm220 220h160v-160H400v160Zm0 220h160v-160H400v160ZM180-400h160v-160H180v160Zm440 0h160v-160H620v160ZM180-180h160v-160H180v160Zm440 0h160v-160H620v160Z\"/>\n",
              "  </svg>\n",
              "    </button>\n",
              "\n",
              "  <style>\n",
              "    .colab-df-container {\n",
              "      display:flex;\n",
              "      gap: 12px;\n",
              "    }\n",
              "\n",
              "    .colab-df-convert {\n",
              "      background-color: #E8F0FE;\n",
              "      border: none;\n",
              "      border-radius: 50%;\n",
              "      cursor: pointer;\n",
              "      display: none;\n",
              "      fill: #1967D2;\n",
              "      height: 32px;\n",
              "      padding: 0 0 0 0;\n",
              "      width: 32px;\n",
              "    }\n",
              "\n",
              "    .colab-df-convert:hover {\n",
              "      background-color: #E2EBFA;\n",
              "      box-shadow: 0px 1px 2px rgba(60, 64, 67, 0.3), 0px 1px 3px 1px rgba(60, 64, 67, 0.15);\n",
              "      fill: #174EA6;\n",
              "    }\n",
              "\n",
              "    .colab-df-buttons div {\n",
              "      margin-bottom: 4px;\n",
              "    }\n",
              "\n",
              "    [theme=dark] .colab-df-convert {\n",
              "      background-color: #3B4455;\n",
              "      fill: #D2E3FC;\n",
              "    }\n",
              "\n",
              "    [theme=dark] .colab-df-convert:hover {\n",
              "      background-color: #434B5C;\n",
              "      box-shadow: 0px 1px 3px 1px rgba(0, 0, 0, 0.15);\n",
              "      filter: drop-shadow(0px 1px 2px rgba(0, 0, 0, 0.3));\n",
              "      fill: #FFFFFF;\n",
              "    }\n",
              "  </style>\n",
              "\n",
              "    <script>\n",
              "      const buttonEl =\n",
              "        document.querySelector('#df-bf29a3a3-e977-44ed-886d-669d5890ba9f button.colab-df-convert');\n",
              "      buttonEl.style.display =\n",
              "        google.colab.kernel.accessAllowed ? 'block' : 'none';\n",
              "\n",
              "      async function convertToInteractive(key) {\n",
              "        const element = document.querySelector('#df-bf29a3a3-e977-44ed-886d-669d5890ba9f');\n",
              "        const dataTable =\n",
              "          await google.colab.kernel.invokeFunction('convertToInteractive',\n",
              "                                                    [key], {});\n",
              "        if (!dataTable) return;\n",
              "\n",
              "        const docLinkHtml = 'Like what you see? Visit the ' +\n",
              "          '<a target=\"_blank\" href=https://colab.research.google.com/notebooks/data_table.ipynb>data table notebook</a>'\n",
              "          + ' to learn more about interactive tables.';\n",
              "        element.innerHTML = '';\n",
              "        dataTable['output_type'] = 'display_data';\n",
              "        await google.colab.output.renderOutput(dataTable, element);\n",
              "        const docLink = document.createElement('div');\n",
              "        docLink.innerHTML = docLinkHtml;\n",
              "        element.appendChild(docLink);\n",
              "      }\n",
              "    </script>\n",
              "  </div>\n",
              "\n",
              "\n",
              "<div id=\"df-50372657-e1bb-41fd-a3e9-10aa6eb110c1\">\n",
              "  <button class=\"colab-df-quickchart\" onclick=\"quickchart('df-50372657-e1bb-41fd-a3e9-10aa6eb110c1')\"\n",
              "            title=\"Suggest charts\"\n",
              "            style=\"display:none;\">\n",
              "\n",
              "<svg xmlns=\"http://www.w3.org/2000/svg\" height=\"24px\"viewBox=\"0 0 24 24\"\n",
              "     width=\"24px\">\n",
              "    <g>\n",
              "        <path d=\"M19 3H5c-1.1 0-2 .9-2 2v14c0 1.1.9 2 2 2h14c1.1 0 2-.9 2-2V5c0-1.1-.9-2-2-2zM9 17H7v-7h2v7zm4 0h-2V7h2v10zm4 0h-2v-4h2v4z\"/>\n",
              "    </g>\n",
              "</svg>\n",
              "  </button>\n",
              "\n",
              "<style>\n",
              "  .colab-df-quickchart {\n",
              "      --bg-color: #E8F0FE;\n",
              "      --fill-color: #1967D2;\n",
              "      --hover-bg-color: #E2EBFA;\n",
              "      --hover-fill-color: #174EA6;\n",
              "      --disabled-fill-color: #AAA;\n",
              "      --disabled-bg-color: #DDD;\n",
              "  }\n",
              "\n",
              "  [theme=dark] .colab-df-quickchart {\n",
              "      --bg-color: #3B4455;\n",
              "      --fill-color: #D2E3FC;\n",
              "      --hover-bg-color: #434B5C;\n",
              "      --hover-fill-color: #FFFFFF;\n",
              "      --disabled-bg-color: #3B4455;\n",
              "      --disabled-fill-color: #666;\n",
              "  }\n",
              "\n",
              "  .colab-df-quickchart {\n",
              "    background-color: var(--bg-color);\n",
              "    border: none;\n",
              "    border-radius: 50%;\n",
              "    cursor: pointer;\n",
              "    display: none;\n",
              "    fill: var(--fill-color);\n",
              "    height: 32px;\n",
              "    padding: 0;\n",
              "    width: 32px;\n",
              "  }\n",
              "\n",
              "  .colab-df-quickchart:hover {\n",
              "    background-color: var(--hover-bg-color);\n",
              "    box-shadow: 0 1px 2px rgba(60, 64, 67, 0.3), 0 1px 3px 1px rgba(60, 64, 67, 0.15);\n",
              "    fill: var(--button-hover-fill-color);\n",
              "  }\n",
              "\n",
              "  .colab-df-quickchart-complete:disabled,\n",
              "  .colab-df-quickchart-complete:disabled:hover {\n",
              "    background-color: var(--disabled-bg-color);\n",
              "    fill: var(--disabled-fill-color);\n",
              "    box-shadow: none;\n",
              "  }\n",
              "\n",
              "  .colab-df-spinner {\n",
              "    border: 2px solid var(--fill-color);\n",
              "    border-color: transparent;\n",
              "    border-bottom-color: var(--fill-color);\n",
              "    animation:\n",
              "      spin 1s steps(1) infinite;\n",
              "  }\n",
              "\n",
              "  @keyframes spin {\n",
              "    0% {\n",
              "      border-color: transparent;\n",
              "      border-bottom-color: var(--fill-color);\n",
              "      border-left-color: var(--fill-color);\n",
              "    }\n",
              "    20% {\n",
              "      border-color: transparent;\n",
              "      border-left-color: var(--fill-color);\n",
              "      border-top-color: var(--fill-color);\n",
              "    }\n",
              "    30% {\n",
              "      border-color: transparent;\n",
              "      border-left-color: var(--fill-color);\n",
              "      border-top-color: var(--fill-color);\n",
              "      border-right-color: var(--fill-color);\n",
              "    }\n",
              "    40% {\n",
              "      border-color: transparent;\n",
              "      border-right-color: var(--fill-color);\n",
              "      border-top-color: var(--fill-color);\n",
              "    }\n",
              "    60% {\n",
              "      border-color: transparent;\n",
              "      border-right-color: var(--fill-color);\n",
              "    }\n",
              "    80% {\n",
              "      border-color: transparent;\n",
              "      border-right-color: var(--fill-color);\n",
              "      border-bottom-color: var(--fill-color);\n",
              "    }\n",
              "    90% {\n",
              "      border-color: transparent;\n",
              "      border-bottom-color: var(--fill-color);\n",
              "    }\n",
              "  }\n",
              "</style>\n",
              "\n",
              "  <script>\n",
              "    async function quickchart(key) {\n",
              "      const quickchartButtonEl =\n",
              "        document.querySelector('#' + key + ' button');\n",
              "      quickchartButtonEl.disabled = true;  // To prevent multiple clicks.\n",
              "      quickchartButtonEl.classList.add('colab-df-spinner');\n",
              "      try {\n",
              "        const charts = await google.colab.kernel.invokeFunction(\n",
              "            'suggestCharts', [key], {});\n",
              "      } catch (error) {\n",
              "        console.error('Error during call to suggestCharts:', error);\n",
              "      }\n",
              "      quickchartButtonEl.classList.remove('colab-df-spinner');\n",
              "      quickchartButtonEl.classList.add('colab-df-quickchart-complete');\n",
              "    }\n",
              "    (() => {\n",
              "      let quickchartButtonEl =\n",
              "        document.querySelector('#df-50372657-e1bb-41fd-a3e9-10aa6eb110c1 button');\n",
              "      quickchartButtonEl.style.display =\n",
              "        google.colab.kernel.accessAllowed ? 'block' : 'none';\n",
              "    })();\n",
              "  </script>\n",
              "</div>\n",
              "    </div>\n",
              "  </div>\n"
            ],
            "application/vnd.google.colaboratory.intrinsic+json": {
              "type": "dataframe",
              "variable_name": "float_dtypes",
              "summary": "{\n  \"name\": \"float_dtypes\",\n  \"rows\": 83390,\n  \"fields\": [\n    {\n      \"column\": \"price\",\n      \"properties\": {\n        \"dtype\": \"number\",\n        \"std\": 902.3111940516152,\n        \"min\": 100.0,\n        \"max\": 52500.0,\n        \"num_unique_values\": 3538,\n        \"samples\": [\n          2196.0,\n          2760.0,\n          2542.0\n        ],\n        \"semantic_type\": \"\",\n        \"description\": \"\"\n      }\n    },\n    {\n      \"column\": \"latitude\",\n      \"properties\": {\n        \"dtype\": \"number\",\n        \"std\": 4.585467620792071,\n        \"min\": 19.5738,\n        \"max\": 64.8332,\n        \"num_unique_values\": 6495,\n        \"samples\": [\n          39.7316,\n          27.0684,\n          40.4327\n        ],\n        \"semantic_type\": \"\",\n        \"description\": \"\"\n      }\n    },\n    {\n      \"column\": \"longitude\",\n      \"properties\": {\n        \"dtype\": \"number\",\n        \"std\": 15.723923835948648,\n        \"min\": -159.3698,\n        \"max\": -68.7788,\n        \"num_unique_values\": 6549,\n        \"samples\": [\n          -78.3386,\n          -77.1812,\n          -71.1071\n        ],\n        \"semantic_type\": \"\",\n        \"description\": \"\"\n      }\n    }\n  ]\n}"
            }
          },
          "metadata": {},
          "execution_count": 19
        }
      ],
      "source": [
        "# priting them\n",
        "float_dtypes"
      ]
    },
    {
      "cell_type": "code",
      "execution_count": 20,
      "metadata": {
        "id": "5jkraKxfYCuW",
        "colab": {
          "base_uri": "https://localhost:8080/",
          "height": 0
        },
        "outputId": "e9d9bda2-cb20-4739-9982-d4ee27f6e99f"
      },
      "outputs": [
        {
          "output_type": "display_data",
          "data": {
            "text/plain": [
              "<Figure size 640x480 with 1 Axes>"
            ],
            "image/png": "[encoded data removed]"
          },
          "metadata": {}
        }
      ],
      "source": [
        "# investigating \"price\" (the others don't have many outliers)\n",
        "sns.boxplot(data=rent_df,y=\"price\",showmeans=True)\n",
        "plt.title('Original Price Boxplot');"
      ]
    },
    {
      "cell_type": "code",
      "source": [
        "# getting the lower and upper bound to use in cutting our outliers\n",
        "price_lb , price_ub = outliers_analysis(rent_df,\"price\")\n",
        "lat_lb , lat_ub = outliers_analysis(rent_df,\"latitude\")\n",
        "long_lb , long_ub = outliers_analysis(rent_df,\"longitude\")"
      ],
      "metadata": {
        "id": "67o8IBiYoyIZ",
        "colab": {
          "base_uri": "https://localhost:8080/"
        },
        "outputId": "a8867b04-1c2c-4774-ca72-84f85a4a0740"
      },
      "execution_count": 21,
      "outputs": [
        {
          "output_type": "stream",
          "name": "stdout",
          "text": [
            "There are approximately 3929 outliers in price\n",
            "There are approximately 61 outliers in latitude\n",
            "There are approximately 58 outliers in longitude\n"
          ]
        }
      ]
    },
    {
      "cell_type": "code",
      "source": [
        "# plotting original price distribution\n",
        "sns.histplot(data=rent_df,x=\"price\");\n",
        "plt.title('Original Price Distribution');"
      ],
      "metadata": {
        "id": "C90uJ6ZPryyx",
        "colab": {
          "base_uri": "https://localhost:8080/",
          "height": 0
        },
        "outputId": "fd9f12d2-3735-4912-b093-015a9991454b"
      },
      "execution_count": 22,
      "outputs": [
        {
          "output_type": "display_data",
          "data": {
            "text/plain": [
              "<Figure size 640x480 with 1 Axes>"
            ],
            "image/png": "[encoded data removed]"
          },
          "metadata": {}
        }
      ]
    },
    {
      "cell_type": "code",
      "execution_count": 23,
      "metadata": {
        "id": "Gqw1OEk9gsUH"
      },
      "outputs": [],
      "source": [
        "# winsorizing using IQR bounds\n",
        "rent_df[\"price\"] = rent_df[\"price\"].clip(lower=price_lb, upper=price_ub);"
      ]
    },
    {
      "cell_type": "code",
      "execution_count": 24,
      "metadata": {
        "id": "v-8pzzx-gvXd",
        "colab": {
          "base_uri": "https://localhost:8080/",
          "height": 0
        },
        "outputId": "fa67d30c-d622-4901-e937-3f6a346e3a38"
      },
      "outputs": [
        {
          "output_type": "display_data",
          "data": {
            "text/plain": [
              "<Figure size 640x480 with 1 Axes>"
            ],
            "image/png": "[encoded data removed]"
          },
          "metadata": {}
        }
      ],
      "source": [
        "# plotting the price after winsorizing (cutting)\n",
        "sns.boxplot(data=rent_df,y=\"price\",showmeans=True)\n",
        "plt.title('Boxplot of Price After Winsorizing');"
      ]
    },
    {
      "cell_type": "code",
      "source": [
        "# the last price category might seem like a problem but it is normal and our data is guassian now\n",
        "sns.histplot(data=rent_df,x=\"price\");\n",
        "plt.title('Price Distribution After Winsorizing')\n",
        "plt.xlim(0,max(rent_df[\"price\"]));"
      ],
      "metadata": {
        "id": "xcsuQFwdswAZ",
        "colab": {
          "base_uri": "https://localhost:8080/",
          "height": 0
        },
        "outputId": "d0701f48-2e52-4c74-bd00-505b231fe7df"
      },
      "execution_count": 25,
      "outputs": [
        {
          "output_type": "display_data",
          "data": {
            "text/plain": [
              "<Figure size 640x480 with 1 Axes>"
            ],
            "image/png": "[encoded data removed]"
          },
          "metadata": {}
        }
      ]
    },
    {
      "cell_type": "markdown",
      "metadata": {
        "id": "d0t561t-zIzI"
      },
      "source": [
        "## II - Data Formatting :\n",
        "This step is the process of arranging data in a consistent, computer-readable way , which we have done in the following step :  \n",
        "\n",
        "\n",
        "1.   **Formatting Values**: Change Bad Input and Unacessary Categories\n",
        "2.   **Formatting Datatype** : Convert Features to its correct type\n",
        "3.  **Cardinality Check** : Check data uniquness through high/low cardinality\n",
        "4. **Encoding Data**: Change Categorical data into numerical using Label Encoder\n",
        "\n"
      ]
    },
    {
      "cell_type": "markdown",
      "metadata": {
        "id": "q2_EyNzW02UY"
      },
      "source": [
        "### Formatting Values :"
      ]
    },
    {
      "cell_type": "code",
      "execution_count": 26,
      "metadata": {
        "id": "mOmpMEJn0_ES",
        "colab": {
          "base_uri": "https://localhost:8080/"
        },
        "outputId": "ebaaf30a-64ea-4611-daa1-682a8944903c"
      },
      "outputs": [
        {
          "output_type": "stream",
          "name": "stdout",
          "text": [
            "<class 'pandas.core.frame.DataFrame'>\n",
            "Index: 83390 entries, 21 to 99825\n",
            "Data columns (total 16 columns):\n",
            " #   Column       Non-Null Count  Dtype  \n",
            "---  ------       --------------  -----  \n",
            " 0   category     83390 non-null  object \n",
            " 1   title        83390 non-null  object \n",
            " 2   body         83390 non-null  object \n",
            " 3   amenities    83390 non-null  object \n",
            " 4   bathrooms    83390 non-null  object \n",
            " 5   bedrooms     83390 non-null  object \n",
            " 6   currency     83390 non-null  object \n",
            " 7   fee          83390 non-null  object \n",
            " 8   has_photo    83390 non-null  object \n",
            " 9   price        83390 non-null  float64\n",
            " 10  price_type   83390 non-null  object \n",
            " 11  square_feet  83390 non-null  object \n",
            " 12  cityname     83390 non-null  object \n",
            " 13  state        83390 non-null  object \n",
            " 14  latitude     83390 non-null  float64\n",
            " 15  longitude    83390 non-null  float64\n",
            "dtypes: float64(3), object(13)\n",
            "memory usage: 10.8+ MB\n"
          ]
        }
      ],
      "source": [
        "# investigating data\n",
        "rent_df.info()"
      ]
    },
    {
      "cell_type": "code",
      "execution_count": 27,
      "metadata": {
        "id": "4iq5lvLH0Is9",
        "colab": {
          "base_uri": "https://localhost:8080/"
        },
        "outputId": "e34aafc9-bc57-4076-cb61-9f3c6c530bcd"
      },
      "outputs": [
        {
          "output_type": "execute_result",
          "data": {
            "text/plain": [
              "has_photo\n",
              "Yes          48494\n",
              "Thumbnail    28001\n",
              "No            6895\n",
              "Name: count, dtype: int64"
            ]
          },
          "metadata": {},
          "execution_count": 27
        }
      ],
      "source": [
        "# investigating \"has_photo\" categories\n",
        "rent_df.has_photo.value_counts()"
      ]
    },
    {
      "cell_type": "code",
      "execution_count": 28,
      "metadata": {
        "id": "DdY47UOA0iYD"
      },
      "outputs": [],
      "source": [
        "# assigning the values\n",
        "rent_df.has_photo[rent_df.has_photo == \"Thumbnail\"] = \"Yes\""
      ]
    },
    {
      "cell_type": "code",
      "execution_count": 29,
      "metadata": {
        "id": "hjmHASyB0v6l",
        "colab": {
          "base_uri": "https://localhost:8080/"
        },
        "outputId": "4697452a-784a-47e5-b2ee-0ef7d5a3050f"
      },
      "outputs": [
        {
          "output_type": "execute_result",
          "data": {
            "text/plain": [
              "has_photo\n",
              "Yes    76495\n",
              "No      6895\n",
              "Name: count, dtype: int64"
            ]
          },
          "metadata": {},
          "execution_count": 29
        }
      ],
      "source": [
        "# verifying \"has_photo\" categories\n",
        "rent_df.has_photo.value_counts()"
      ]
    },
    {
      "cell_type": "markdown",
      "metadata": {
        "id": "XGPLQxdw05Nb"
      },
      "source": [
        "### Formatting Datatype :"
      ]
    },
    {
      "cell_type": "code",
      "execution_count": 30,
      "metadata": {
        "id": "F56-5Gn0zrZY",
        "colab": {
          "base_uri": "https://localhost:8080/"
        },
        "outputId": "836d26fb-8139-4040-cf60-50ac555d82c3"
      },
      "outputs": [
        {
          "output_type": "stream",
          "name": "stdout",
          "text": [
            "<class 'pandas.core.frame.DataFrame'>\n",
            "Index: 83390 entries, 21 to 99825\n",
            "Data columns (total 16 columns):\n",
            " #   Column       Non-Null Count  Dtype  \n",
            "---  ------       --------------  -----  \n",
            " 0   category     83390 non-null  object \n",
            " 1   title        83390 non-null  object \n",
            " 2   body         83390 non-null  object \n",
            " 3   amenities    83390 non-null  object \n",
            " 4   bathrooms    83390 non-null  object \n",
            " 5   bedrooms     83390 non-null  object \n",
            " 6   currency     83390 non-null  object \n",
            " 7   fee          83390 non-null  object \n",
            " 8   has_photo    83390 non-null  object \n",
            " 9   price        83390 non-null  float64\n",
            " 10  price_type   83390 non-null  object \n",
            " 11  square_feet  83390 non-null  object \n",
            " 12  cityname     83390 non-null  object \n",
            " 13  state        83390 non-null  object \n",
            " 14  latitude     83390 non-null  float64\n",
            " 15  longitude    83390 non-null  float64\n",
            "dtypes: float64(3), object(13)\n",
            "memory usage: 10.8+ MB\n"
          ]
        }
      ],
      "source": [
        "# investigating data (there is some features which has the wrong datatype)\n",
        "rent_df.info()"
      ]
    },
    {
      "cell_type": "code",
      "execution_count": 31,
      "metadata": {
        "id": "1ITjcg4Lz_1x",
        "colab": {
          "base_uri": "https://localhost:8080/"
        },
        "outputId": "78af0be6-892b-4c67-b4d7-11d9ad992aba"
      },
      "outputs": [
        {
          "output_type": "execute_result",
          "data": {
            "text/plain": [
              "square_feet\n",
              "1000    882\n",
              "900     751\n",
              "800     750\n",
              "700     691\n",
              "1100    682\n",
              "       ... \n",
              "2818      1\n",
              "2416      1\n",
              "2665      1\n",
              "1935      1\n",
              "2252      1\n",
              "Name: count, Length: 3719, dtype: int64"
            ]
          },
          "metadata": {},
          "execution_count": 31
        }
      ],
      "source": [
        "# investigating \"square_feet\" values datatype\n",
        "rent_df.square_feet.value_counts()"
      ]
    },
    {
      "cell_type": "code",
      "execution_count": 32,
      "metadata": {
        "id": "yMz3u77PtW1N",
        "colab": {
          "base_uri": "https://localhost:8080/"
        },
        "outputId": "1499fb61-0df0-4133-fba5-789c3f5e4b13"
      },
      "outputs": [
        {
          "output_type": "execute_result",
          "data": {
            "text/plain": [
              "bedrooms\n",
              "2      38741\n",
              "1      33302\n",
              "3       8390\n",
              "4        925\n",
              "2.0      639\n",
              "1.0      596\n",
              "0        434\n",
              "5        168\n",
              "3.0      131\n",
              "6         29\n",
              "4.0       23\n",
              "0.0        4\n",
              "5.0        3\n",
              "8          2\n",
              "7          2\n",
              "9          1\n",
              "Name: count, dtype: int64"
            ]
          },
          "metadata": {},
          "execution_count": 32
        }
      ],
      "source": [
        "# investigating \"bedrooms\" values datatype\n",
        "rent_df.bedrooms.value_counts()"
      ]
    },
    {
      "cell_type": "code",
      "execution_count": 33,
      "metadata": {
        "id": "2TrIndMztjB6",
        "colab": {
          "base_uri": "https://localhost:8080/"
        },
        "outputId": "5966eab5-f45d-46de-d84b-c9de5550a785"
      },
      "outputs": [
        {
          "output_type": "execute_result",
          "data": {
            "text/plain": [
              "bathrooms\n",
              "1      46200\n",
              "2      30940\n",
              "1.5     2592\n",
              "2.5     1418\n",
              "1.0      752\n",
              "3        632\n",
              "2.0      553\n",
              "3.5       91\n",
              "4         71\n",
              "2.5       35\n",
              "1.5       35\n",
              "4.5       20\n",
              "5         16\n",
              "3.0       13\n",
              "6          7\n",
              "4.0        4\n",
              "3.5        3\n",
              "5.5        3\n",
              "9          1\n",
              "7          1\n",
              "8          1\n",
              "7.5        1\n",
              "4.5        1\n",
              "Name: count, dtype: int64"
            ]
          },
          "metadata": {},
          "execution_count": 33
        }
      ],
      "source": [
        "# investigating \"bedrooms\" values datatype\n",
        "rent_df.bathrooms.value_counts()"
      ]
    },
    {
      "cell_type": "code",
      "execution_count": 34,
      "metadata": {
        "id": "w8041ZJezVh4"
      },
      "outputs": [],
      "source": [
        "# changing the features into their true datatype (float)\n",
        "columns = [\"bedrooms\",\"bathrooms\",\"square_feet\"]\n",
        "for col in columns :\n",
        "  rent_df[col] = rent_df[col].astype(float)\n",
        "  rent_df[col] = round(rent_df[col],0)"
      ]
    },
    {
      "cell_type": "code",
      "execution_count": 35,
      "metadata": {
        "id": "UHr_hmAcGIqm",
        "colab": {
          "base_uri": "https://localhost:8080/"
        },
        "outputId": "422dbb7a-8cc4-40e8-b700-d4158f5dedd7"
      },
      "outputs": [
        {
          "output_type": "execute_result",
          "data": {
            "text/plain": [
              "bedrooms\n",
              "2.0    39380\n",
              "1.0    33898\n",
              "3.0     8521\n",
              "4.0      948\n",
              "0.0      438\n",
              "5.0      171\n",
              "6.0       29\n",
              "8.0        2\n",
              "7.0        2\n",
              "9.0        1\n",
              "Name: count, dtype: int64"
            ]
          },
          "metadata": {},
          "execution_count": 35
        }
      ],
      "source": [
        "# verifying \"bedrooms\" values datatype\n",
        "rent_df.bedrooms.value_counts()"
      ]
    },
    {
      "cell_type": "code",
      "execution_count": 36,
      "metadata": {
        "id": "vTT4v-ffFuv-",
        "colab": {
          "base_uri": "https://localhost:8080/"
        },
        "outputId": "ac7bfc4d-e7be-4e81-ac15-ea12b1f1774e"
      },
      "outputs": [
        {
          "output_type": "stream",
          "name": "stdout",
          "text": [
            "<class 'pandas.core.frame.DataFrame'>\n",
            "Index: 83390 entries, 21 to 99825\n",
            "Data columns (total 16 columns):\n",
            " #   Column       Non-Null Count  Dtype  \n",
            "---  ------       --------------  -----  \n",
            " 0   category     83390 non-null  object \n",
            " 1   title        83390 non-null  object \n",
            " 2   body         83390 non-null  object \n",
            " 3   amenities    83390 non-null  object \n",
            " 4   bathrooms    83390 non-null  float64\n",
            " 5   bedrooms     83390 non-null  float64\n",
            " 6   currency     83390 non-null  object \n",
            " 7   fee          83390 non-null  object \n",
            " 8   has_photo    83390 non-null  object \n",
            " 9   price        83390 non-null  float64\n",
            " 10  price_type   83390 non-null  object \n",
            " 11  square_feet  83390 non-null  float64\n",
            " 12  cityname     83390 non-null  object \n",
            " 13  state        83390 non-null  object \n",
            " 14  latitude     83390 non-null  float64\n",
            " 15  longitude    83390 non-null  float64\n",
            "dtypes: float64(6), object(10)\n",
            "memory usage: 10.8+ MB\n"
          ]
        }
      ],
      "source": [
        "# verifying the dataframe values datatype\n",
        "rent_df.info()"
      ]
    },
    {
      "cell_type": "markdown",
      "metadata": {
        "id": "4d03fSPczCVX"
      },
      "source": [
        "### Cardinality Check :"
      ]
    },
    {
      "cell_type": "code",
      "execution_count": 37,
      "metadata": {
        "id": "GhX7u21qmhIZ"
      },
      "outputs": [],
      "source": [
        "# getting the rent data uniqueness percentage (unique values / total values)\n",
        "rent_card = round((rent_df.nunique()/rent_df.shape[0])*100,2)"
      ]
    },
    {
      "cell_type": "code",
      "source": [
        "rent_card"
      ],
      "metadata": {
        "id": "YP7NYFoc0axv",
        "colab": {
          "base_uri": "https://localhost:8080/"
        },
        "outputId": "815d71f5-0434-4c4e-8d3e-cb21a3233e58"
      },
      "execution_count": 38,
      "outputs": [
        {
          "output_type": "execute_result",
          "data": {
            "text/plain": [
              "category        0.01\n",
              "title          58.70\n",
              "body           94.67\n",
              "amenities      11.76\n",
              "bathrooms       0.01\n",
              "bedrooms        0.01\n",
              "currency        0.00\n",
              "fee             0.00\n",
              "has_photo       0.00\n",
              "price           2.96\n",
              "price_type      0.00\n",
              "square_feet     2.68\n",
              "cityname        3.21\n",
              "state           0.06\n",
              "latitude        7.79\n",
              "longitude       7.85\n",
              "dtype: float64"
            ]
          },
          "metadata": {},
          "execution_count": 38
        }
      ]
    },
    {
      "cell_type": "code",
      "source": [
        "# plotting the uniquness percentage\n",
        "\n",
        "# defining the color ranges\n",
        "color_ranges = [(0, 1, 'red'), (1, 20, 'green'), (20, 100, 'red')]\n",
        "\n",
        "# Assigning colors based on ranges and create final color list\n",
        "final_colors = []\n",
        "for value in rent_card.values:\n",
        "  for min_value, max_value, color in color_ranges:\n",
        "    if min_value <= value <= max_value:\n",
        "      final_colors.append(color)\n",
        "      break\n",
        "\n",
        "fig, ax = plt.subplots()\n",
        "bars = ax.barh(rent_card.index, rent_card.values,color=final_colors)\n",
        "ax.bar_label(bars)\n",
        "plt.title(\"Columns Uniqueness Percentage\");\n",
        "\n",
        "\n",
        "# coloring the y-labels for better context\n",
        "y_labels = plt.gca().get_yticklabels()\n",
        "for i, label in enumerate(y_labels):\n",
        "  label.set_color(final_colors[i])"
      ],
      "metadata": {
        "id": "PyEcmwy_0J_w",
        "colab": {
          "base_uri": "https://localhost:8080/",
          "height": 0
        },
        "outputId": "2b0bee89-7115-43e2-a0b0-dad6d0611fdb"
      },
      "execution_count": 39,
      "outputs": [
        {
          "output_type": "display_data",
          "data": {
            "text/plain": [
              "<Figure size 640x480 with 1 Axes>"
            ],
            "image/png": "[encoded data removed]"
          },
          "metadata": {}
        }
      ]
    },
    {
      "cell_type": "code",
      "execution_count": 40,
      "metadata": {
        "id": "U8IThPcCquxn",
        "colab": {
          "base_uri": "https://localhost:8080/"
        },
        "outputId": "412ab4e4-90e5-4de0-98fb-15e0ed29bdee"
      },
      "outputs": [
        {
          "output_type": "execute_result",
          "data": {
            "text/plain": [
              "currency\n",
              "USD    83390\n",
              "Name: count, dtype: int64"
            ]
          },
          "metadata": {},
          "execution_count": 40
        }
      ],
      "source": [
        "# verifying \"currency\" categories\n",
        "rent_df.currency.value_counts()"
      ]
    },
    {
      "cell_type": "code",
      "source": [
        "# plotting \"currency\" categories\n",
        "plt.figure(figsize=(15,7))\n",
        "plt.pie(rent_df[\"currency\"].value_counts(),autopct='%1.1f%%')\n",
        "plt.legend([\"USD\"])\n",
        "plt.title(\"Currency Values Proportion\");"
      ],
      "metadata": {
        "id": "gqCp2TT93rRP",
        "colab": {
          "base_uri": "https://localhost:8080/",
          "height": 0
        },
        "outputId": "5ef6bee0-fa02-4246-c7e0-0f0a367b7b16"
      },
      "execution_count": 41,
      "outputs": [
        {
          "output_type": "display_data",
          "data": {
            "text/plain": [
              "<Figure size 1500x700 with 1 Axes>"
            ],
            "image/png": "[encoded data removed]"
          },
          "metadata": {}
        }
      ]
    },
    {
      "cell_type": "code",
      "execution_count": 42,
      "metadata": {
        "id": "547H9CCHq9qF",
        "colab": {
          "base_uri": "https://localhost:8080/"
        },
        "outputId": "1fbbca40-febc-46d6-a0e0-53c23fa18a8d"
      },
      "outputs": [
        {
          "output_type": "execute_result",
          "data": {
            "text/plain": [
              "price_type\n",
              "Monthly    83387\n",
              "Weekly         3\n",
              "Name: count, dtype: int64"
            ]
          },
          "metadata": {},
          "execution_count": 42
        }
      ],
      "source": [
        "# verifying \"price_type\" categories\n",
        "rent_df.price_type.value_counts()"
      ]
    },
    {
      "cell_type": "code",
      "source": [
        "# plotting \"price_type\" categories\n",
        "ax = sns.countplot(data=rent_df,x=\"price_type\")\n",
        "ax.bar_label(ax.containers[0])\n",
        "plt.title(\"Frequencies of Payment Types\");"
      ],
      "metadata": {
        "id": "ii_4fPcB05Q3",
        "colab": {
          "base_uri": "https://localhost:8080/",
          "height": 0
        },
        "outputId": "46f34c29-92f1-491a-c261-a5b180520a55"
      },
      "execution_count": 43,
      "outputs": [
        {
          "output_type": "display_data",
          "data": {
            "text/plain": [
              "<Figure size 640x480 with 1 Axes>"
            ],
            "image/png": "[encoded data removed]"
          },
          "metadata": {}
        }
      ]
    },
    {
      "cell_type": "code",
      "execution_count": 44,
      "metadata": {
        "id": "inLcQmm2rLt-",
        "colab": {
          "base_uri": "https://localhost:8080/"
        },
        "outputId": "a3af45ca-7ee8-418b-c55c-1b71985cfb46"
      },
      "outputs": [
        {
          "output_type": "execute_result",
          "data": {
            "text/plain": [
              "body\n",
              "When searching for a pet-friendly One-, Two- and 3 Beds apartment homes in Randallstown, look no further than Northwest Crossing. Northwest Crossing's convenient suburban. and Liberty provides you with immediate access to shopping, entertainment, transportation and is directly across from Northwest Hospital. Commuters enjoy easy access to Baltimore's Inner, Baltimore Washington International Airport BWI, Owings Mills, Pikesville, and Catonsville. The Crossing enjoy the comforts of an apartment they are truly proud to with wall-to-wall carpeting, fully-equipped kitchens with dishwashers, over-sized closets and expansive balconies. Outside your home, Northwest Crossing boasts a fitness facilities, basketball and professionally landscaped grounds with picnic areas. Take pleasure in knowing that our professional management team is here to assist you with any need great or small. We are excited to meet you and welcome you home!                                                                           45\n",
              "Welcome Apartment Homes, where quality apartment living awaits you! These gorgeous apartments are located in Jacksonville, North Carolina, conveniently surrounded by a variety of restaurants, schools, shopping centers, and recreational areas. Our lovely community is the perfect to enjoy a relaxed, comfortable lifestyle. With an array of floorplans that are all accompanied by unbeatable amenities and community features, theres guaranteed to be something for everyone! We offer everything you could need in one, and our staff is happily available to assist our residents with any situation that may arise. Our friendly community encourages turning those strangers next door into neighbors because, Apartment Homes, all residents are considered family! Apartments home today, and see how our outstanding management and staff will exceed your expectations. Income Requirement: Must have 2. 5x the rent in total household income before taxes, include income from all adults. Utilities included: Sewer, Water.    37\n",
              "If you re looking to lease your new home, you want to rest assured that all the essentials are taken care of. That s where we come in. The is a professionally managed apartment community in Belleville, NJ, where you will have everything you need to live your life right. Whether you prefer nights in or love to be out on the town, The is your gateway to the good life. We are only 25 minutes from Midtown tan, nestled in a green, park-like neighborhood, so our location is 1 of our best amenities. Ditch the late-night or weekend laundromat runs, we have laundry facilities onsite for your convenience. Enjoy the essential appliances, and take advantage of our available cable and satellite. Everything you need to do apartment living right is Woodlands. today ! Income Requirement: Must have 3. 0x the rent in total household income before taxes, include income from all adults. Utilities: Renter responsible for all utilities.                                                                                   20\n",
              "Welcome home to The Estara Apartments in Dallas, Texas! If youre looking for charming apartments for rent in Vickery Meadow, youve come to the right. Our community provides 1 beds apartments in East Dallas and an ideal location. With easy access to I-635 and Northwest, you have a quick and convenient commute to anywhere in the area. These apartments near Medical City in Dallas are central to many shopping, dining, and entertainment options including Dallas Athletic Club, Firewheel Town Center, Cinemark Movie Theater, Town East Mall, Market East, Centerville Park, and Celebration Station, and our apartments are near the Dallas Arboretum. Amazing employment opportunities are around the corner because our apartments are near Texas Instruments. Several area schools are close by, including Shands Elementary, Charles A. Gill Elementary, Dallas Christian School, Remington College-Dallas Campus, and Eastfield College, and our apartments are also near Richland College.                                     19\n",
              "Do you desire beautiful brownstone-style apartment living near gorgeous waterways in Norfolk Welcome to The urban design meets spacious floorplans, luxurious social spaces and everyday convenience. With plenty of walkable upscale shops and eateries nearby, plus easy access to popular watersport activities, our community is perfect for those that crave both an urban lifestyle and the great outdoors. Our Studio, 1, 2 & three beds apartment community offers a variety of living spaces for families, working professionals and students with close proximity to Norfolk Navel Base and Old Dominion University. Start and end your days in your cozy, yet roomy apartment with state of the art touches like 9 or ten-foot ceilings with crown molding, large kitchen islands and walk-in closets for your, it's easy to live your dream lifestyle by the sea. Utilities: Renter responsible for all utilities. Additional Charges: Trash: $15/month. Pet restrictions: Aggressive breeds.                                          16\n",
              "Name: count, dtype: int64"
            ]
          },
          "metadata": {},
          "execution_count": 44
        }
      ],
      "source": [
        "# verifying \"body\" categories\n",
        "rent_df.body.value_counts()[:5]"
      ]
    },
    {
      "cell_type": "code",
      "execution_count": 45,
      "metadata": {
        "id": "0QFYpRb7rYHY"
      },
      "outputs": [],
      "source": [
        "# dropping these columns (they have low cardinality)\n",
        "rent_df = rent_df.drop(columns=[\"currency\",\"price_type\",\"body\",\"title\"])"
      ]
    },
    {
      "cell_type": "markdown",
      "metadata": {
        "id": "0_FxiVkJJPpT"
      },
      "source": [
        "### One Hot Encoding :"
      ]
    },
    {
      "cell_type": "code",
      "execution_count": 46,
      "metadata": {
        "id": "9Hd71RHvs5Ag",
        "colab": {
          "base_uri": "https://localhost:8080/"
        },
        "outputId": "753ebb3b-cd45-44d4-93b4-e7105c03e835"
      },
      "outputs": [
        {
          "output_type": "execute_result",
          "data": {
            "text/plain": [
              "amenities\n",
              "Parking                                                                                                                    6162\n",
              "Parking,Storage                                                                                                            2115\n",
              "Gym,Pool                                                                                                                   1873\n",
              "Pool                                                                                                                       1479\n",
              "Gym,Parking,Pool                                                                                                           1183\n",
              "                                                                                                                           ... \n",
              "AC,Cable or Satellite,Dishwasher,Fireplace,Garbage Disposal,Patio/Deck,Refrigerator,Tennis,Washer Dryer                       1\n",
              "Gated,Parking,Pool,Washer Dryer,Wood Floors                                                                                   1\n",
              "Basketball,Clubhouse,Dishwasher,Fireplace,Gated,Patio/Deck,Playground,Pool,Refrigerator,Tennis,Washer Dryer,Wood Floors       1\n",
              "AC,Cable or Satellite,Elevator,Gym,Internet Access,Refrigerator,TV,Wood Floors                                                1\n",
              "Dishwasher,Doorman,Patio/Deck,Refrigerator,Storage,Washer Dryer,Wood Floors                                                   1\n",
              "Name: count, Length: 9805, dtype: int64"
            ]
          },
          "metadata": {},
          "execution_count": 46
        }
      ],
      "source": [
        "# we could do one hot encoding to aminitiest (takes too much time and processing power that we cannot afford with about 88K rows)\n",
        "rent_df.amenities.value_counts()"
      ]
    },
    {
      "cell_type": "code",
      "execution_count": 47,
      "metadata": {
        "id": "9JVZUug6KL6e"
      },
      "outputs": [],
      "source": [
        "rent_df = rent_df.drop(columns=[\"amenities\"])"
      ]
    },
    {
      "cell_type": "code",
      "execution_count": 48,
      "metadata": {
        "id": "kIVUL-tsQYdN",
        "colab": {
          "base_uri": "https://localhost:8080/"
        },
        "outputId": "ea99c977-1578-4e97-d084-aa72c5628a54"
      },
      "outputs": [
        {
          "output_type": "execute_result",
          "data": {
            "text/plain": [
              "category\n",
              "housing/rent/apartment            83332\n",
              "housing/rent/commercial/retail       42\n",
              "housing/rent                          6\n",
              "housing/rent/home                     4\n",
              "housing/rent/condo                    3\n",
              "housing/rent/short_term               2\n",
              "housing/rent/other                    1\n",
              "Name: count, dtype: int64"
            ]
          },
          "metadata": {},
          "execution_count": 48
        }
      ],
      "source": [
        "rent_df.category.value_counts()"
      ]
    },
    {
      "cell_type": "code",
      "execution_count": 49,
      "metadata": {
        "id": "LORNGTxYPohf"
      },
      "outputs": [],
      "source": [
        "rent_df.category = rent_df.category.str.split(\"/\",expand=True)[2]"
      ]
    },
    {
      "cell_type": "code",
      "execution_count": 50,
      "metadata": {
        "id": "Kw6j-p5FRieJ",
        "colab": {
          "base_uri": "https://localhost:8080/"
        },
        "outputId": "ae2e0e54-609c-4be0-a7e4-33ef38c43158"
      },
      "outputs": [
        {
          "output_type": "execute_result",
          "data": {
            "text/plain": [
              "category\n",
              "apartment     83332\n",
              "commercial       42\n",
              "home              4\n",
              "condo             3\n",
              "short_term        2\n",
              "other             1\n",
              "Name: count, dtype: int64"
            ]
          },
          "metadata": {},
          "execution_count": 50
        }
      ],
      "source": [
        "rent_df.category.value_counts()"
      ]
    },
    {
      "cell_type": "code",
      "source": [
        "ax = sns.countplot(data=rent_df,x=\"category\")\n",
        "ax.bar_label(ax.containers[0])\n",
        "plt.title(\"Frequencies of Appartement Categories\");"
      ],
      "metadata": {
        "id": "iRpnulm5uMWh",
        "colab": {
          "base_uri": "https://localhost:8080/",
          "height": 0
        },
        "outputId": "5114a381-33db-4c14-a377-41865c7ec9e3"
      },
      "execution_count": 51,
      "outputs": [
        {
          "output_type": "display_data",
          "data": {
            "text/plain": [
              "<Figure size 640x480 with 1 Axes>"
            ],
            "image/png": "[encoded data removed]"
          },
          "metadata": {}
        }
      ]
    },
    {
      "cell_type": "code",
      "execution_count": 52,
      "metadata": {
        "id": "AL32BQkHRyp3"
      },
      "outputs": [],
      "source": [
        "rent_df = rent_df[rent_df.category == \"apartment\"]"
      ]
    },
    {
      "cell_type": "code",
      "execution_count": 53,
      "metadata": {
        "id": "jkO3cMZ9SD_O"
      },
      "outputs": [],
      "source": [
        "rent_df=rent_df.drop(columns=[\"category\"])"
      ]
    },
    {
      "cell_type": "markdown",
      "metadata": {
        "id": "XWHrW4Fzbyfx"
      },
      "source": [
        "### Label Encoder"
      ]
    },
    {
      "cell_type": "code",
      "execution_count": 54,
      "metadata": {
        "id": "jJgBUMYIb1Kp"
      },
      "outputs": [],
      "source": [
        "# Converting our data from categorical into numerical to be inputted into the model\n",
        "object_cols = rent_df.select_dtypes(include=\"object\")\n",
        "\n",
        "le = LabelEncoder()\n",
        "\n",
        "for col in object_cols :\n",
        "  # Fitting the encoder to the categories (learn the mapping)\n",
        "  rent_df[col] = le.fit_transform(rent_df[col])"
      ]
    },
    {
      "cell_type": "markdown",
      "source": [
        "## III - Resizing Data :\n",
        "In this step we use the price and we convert it into categorical variable to use it for smapling our data ( **stratified random sampling** ) where we are taking 1% of our data"
      ],
      "metadata": {
        "id": "helzSkUUnauf"
      }
    },
    {
      "cell_type": "markdown",
      "source": [
        "### Categorising Target Variable :"
      ],
      "metadata": {
        "id": "unwP0LmPlx-L"
      }
    },
    {
      "cell_type": "code",
      "execution_count": 55,
      "metadata": {
        "id": "8kSAd4qDPkWY",
        "colab": {
          "base_uri": "https://localhost:8080/"
        },
        "outputId": "158a8418-f044-4ebc-caeb-1da276a9285e"
      },
      "outputs": [
        {
          "output_type": "stream",
          "name": "stdout",
          "text": [
            "<class 'pandas.core.frame.DataFrame'>\n",
            "Index: 83332 entries, 21 to 99825\n",
            "Data columns (total 10 columns):\n",
            " #   Column       Non-Null Count  Dtype  \n",
            "---  ------       --------------  -----  \n",
            " 0   bathrooms    83332 non-null  float64\n",
            " 1   bedrooms     83332 non-null  float64\n",
            " 2   fee          83332 non-null  int64  \n",
            " 3   has_photo    83332 non-null  int64  \n",
            " 4   price        83332 non-null  float64\n",
            " 5   square_feet  83332 non-null  float64\n",
            " 6   cityname     83332 non-null  int64  \n",
            " 7   state        83332 non-null  int64  \n",
            " 8   latitude     83332 non-null  float64\n",
            " 9   longitude    83332 non-null  float64\n",
            "dtypes: float64(6), int64(4)\n",
            "memory usage: 7.0 MB\n"
          ]
        }
      ],
      "source": [
        "# checking the data\n",
        "rent_df.info()"
      ]
    },
    {
      "cell_type": "code",
      "execution_count": 56,
      "metadata": {
        "id": "rT4lqGc8nUqa",
        "colab": {
          "base_uri": "https://localhost:8080/"
        },
        "outputId": "06e8d607-6f90-4b50-f2aa-725ac1bd0a7c"
      },
      "outputs": [
        {
          "output_type": "execute_result",
          "data": {
            "text/plain": [
              "count    83332.000000\n",
              "mean      1467.289745\n",
              "std        601.051265\n",
              "min        100.000000\n",
              "25%       1011.000000\n",
              "50%       1349.000000\n",
              "75%       1780.000000\n",
              "max       2932.000000\n",
              "Name: price, dtype: float64"
            ]
          },
          "metadata": {},
          "execution_count": 56
        }
      ],
      "source": [
        "# getting some summary stats\n",
        "rent_df.price.describe()"
      ]
    },
    {
      "cell_type": "code",
      "execution_count": 57,
      "metadata": {
        "id": "mJBJ6lEdCy_E"
      },
      "outputs": [],
      "source": [
        "# saving the data (will use it later)\n",
        "old_data = rent_df.copy()"
      ]
    },
    {
      "cell_type": "code",
      "execution_count": 58,
      "metadata": {
        "id": "18A-wp7kjnGq"
      },
      "outputs": [],
      "source": [
        "# calculating quartiles to create a target variable from price (categorization)\n",
        "q1 = np.percentile(rent_df[\"price\"], 25)\n",
        "q2 = np.percentile(rent_df[\"price\"], 50)\n",
        "q3 = np.percentile(rent_df[\"price\"], 75)"
      ]
    },
    {
      "cell_type": "code",
      "source": [
        "# categorizing rent\n",
        "rent_df[\"price_cat\"] = rent_df[\"price\"].apply(lambda x: categorize_rent(x, q1, q3))"
      ],
      "metadata": {
        "id": "RtExFDE08bBp"
      },
      "execution_count": 59,
      "outputs": []
    },
    {
      "cell_type": "code",
      "source": [
        "# plotting categories proportions\n",
        "plt.figure(figsize=(15,7))\n",
        "plt.pie(rent_df[\"price_cat\"].value_counts(), autopct='%1.1f%%')\n",
        "plt.legend(rent_df[\"price_cat\"].value_counts().index)\n",
        "plt.title(\"Price Categories Proportions\");"
      ],
      "metadata": {
        "id": "py_rqskU51oZ",
        "colab": {
          "base_uri": "https://localhost:8080/",
          "height": 0
        },
        "outputId": "77980b06-4859-40fe-e905-1b90136d94c6"
      },
      "execution_count": 60,
      "outputs": [
        {
          "output_type": "display_data",
          "data": {
            "text/plain": [
              "<Figure size 1500x700 with 1 Axes>"
            ],
            "image/png": "[encoded data removed]"
          },
          "metadata": {}
        }
      ]
    },
    {
      "cell_type": "markdown",
      "metadata": {
        "id": "K-SZyBxLd4Bf"
      },
      "source": [
        "### Stratified Random Sampling :"
      ]
    },
    {
      "cell_type": "code",
      "execution_count": 61,
      "metadata": {
        "id": "SlUs4i1LcvoD",
        "colab": {
          "base_uri": "https://localhost:8080/"
        },
        "outputId": "925afb79-856d-4df4-b8de-5be02df73dbd"
      },
      "outputs": [
        {
          "output_type": "stream",
          "name": "stdout",
          "text": [
            "<class 'pandas.core.frame.DataFrame'>\n",
            "Index: 83332 entries, 21 to 99825\n",
            "Data columns (total 11 columns):\n",
            " #   Column       Non-Null Count  Dtype  \n",
            "---  ------       --------------  -----  \n",
            " 0   bathrooms    83332 non-null  float64\n",
            " 1   bedrooms     83332 non-null  float64\n",
            " 2   fee          83332 non-null  int64  \n",
            " 3   has_photo    83332 non-null  int64  \n",
            " 4   price        83332 non-null  float64\n",
            " 5   square_feet  83332 non-null  float64\n",
            " 6   cityname     83332 non-null  int64  \n",
            " 7   state        83332 non-null  int64  \n",
            " 8   latitude     83332 non-null  float64\n",
            " 9   longitude    83332 non-null  float64\n",
            " 10  price_cat    83332 non-null  object \n",
            "dtypes: float64(6), int64(4), object(1)\n",
            "memory usage: 7.6+ MB\n"
          ]
        }
      ],
      "source": [
        "# getting data information\n",
        "rent_df.info()"
      ]
    },
    {
      "cell_type": "code",
      "source": [
        "#plotting our sample size\n",
        "plt.figure(figsize=(5,15))\n",
        "data = [rent_df.shape[0]*0.9, rent_df.shape[0]*0.1]\n",
        "labels = ['Data', 'Sample']\n",
        "explode = (0, 0.2)\n",
        "plt.pie(data, labels=labels, autopct='%1.1f%%')\n",
        "plt.title(\"Sampling Original Rent Data \")\n",
        "plt.legend();"
      ],
      "metadata": {
        "id": "0BsRnBdZCO15",
        "colab": {
          "base_uri": "https://localhost:8080/",
          "height": 0
        },
        "outputId": "1e0b41ba-f815-4771-ce89-506796a10c87"
      },
      "execution_count": 62,
      "outputs": [
        {
          "output_type": "display_data",
          "data": {
            "text/plain": [
              "<Figure size 500x1500 with 1 Axes>"
            ],
            "image/png": "[encoded data removed]"
          },
          "metadata": {}
        }
      ]
    },
    {
      "cell_type": "code",
      "execution_count": 63,
      "metadata": {
        "id": "kuCi53j6sLEF"
      },
      "outputs": [],
      "source": [
        "# getting our sample data using the categogrical \"price\" feature (1%)\n",
        "sampled_data = stratified_sampling(rent_df,\"price_cat\",0.1)"
      ]
    },
    {
      "cell_type": "code",
      "execution_count": 64,
      "metadata": {
        "id": "Na6cprjCuzQz",
        "colab": {
          "base_uri": "https://localhost:8080/"
        },
        "outputId": "0a709d04-161b-45c4-af8d-885dbb293243"
      },
      "outputs": [
        {
          "output_type": "execute_result",
          "data": {
            "text/plain": [
              "price_cat\n",
              "Moderate      4172\n",
              "Affordable    2082\n",
              "Expensive     2079\n",
              "Name: count, dtype: int64"
            ]
          },
          "metadata": {},
          "execution_count": 64
        }
      ],
      "source": [
        "# checking if the data is still balenced\n",
        "sampled_data[\"price_cat\"].value_counts()"
      ]
    },
    {
      "cell_type": "code",
      "execution_count": 65,
      "metadata": {
        "id": "GHvZnfHQvEAe",
        "colab": {
          "base_uri": "https://localhost:8080/"
        },
        "outputId": "5f770c84-d724-4075-d88b-da9248c9e2ff"
      },
      "outputs": [
        {
          "output_type": "execute_result",
          "data": {
            "text/plain": [
              "(8333, 11)"
            ]
          },
          "metadata": {},
          "execution_count": 65
        }
      ],
      "source": [
        "# plotting sample size\n",
        "sampled_data.shape"
      ]
    },
    {
      "cell_type": "code",
      "execution_count": 66,
      "metadata": {
        "id": "M7h1TN-7vUx_"
      },
      "outputs": [],
      "source": [
        "# dropping target variable\n",
        "data = sampled_data.drop(columns=[\"price_cat\"])"
      ]
    },
    {
      "cell_type": "markdown",
      "metadata": {
        "id": "kiJDKjj7SvxK"
      },
      "source": [
        "# K-means :\n",
        "Here we're goung to use the elbow method to investigate the optimal number of clusters for our k-means model where we will get k , then we apply clustering and investigated the results where through scatter plots"
      ]
    },
    {
      "cell_type": "markdown",
      "source": [
        "### Optimising `n_clusters` Using Elbow Method :"
      ],
      "metadata": {
        "id": "GeFvalnRmtGc"
      }
    },
    {
      "cell_type": "code",
      "execution_count": 67,
      "metadata": {
        "id": "kqAuha0QSxFV",
        "colab": {
          "base_uri": "https://localhost:8080/",
          "height": 472
        },
        "outputId": "3daccb74-db0b-4a6e-f4ff-6fcac7e004f9"
      },
      "outputs": [
        {
          "output_type": "display_data",
          "data": {
            "text/plain": [
              "<Figure size 640x480 with 1 Axes>"
            ],
            "image/png": "[encoded data removed]"
          },
          "metadata": {}
        }
      ],
      "source": [
        "# Defining a range of k values to explore\n",
        "k_range = range(1, 10)\n",
        "\n",
        "# Initializing an empty list to store inertia values\n",
        "inertias = []\n",
        "\n",
        "# Looping through the k values\n",
        "for k in k_range:\n",
        "  # Creating a KMeans object with the current k value\n",
        "  kmeans = KMeans(n_clusters=k)\n",
        "\n",
        "  # Fitting the model to the data\n",
        "  kmeans.fit(data)\n",
        "\n",
        "  # Calculating inertia (sum of squared distances to centroids)\n",
        "  inertia = kmeans.inertia_\n",
        "\n",
        "  # Appending inertia to the list\n",
        "  inertias.append(inertia)\n",
        "\n",
        "# Plotting the k values vs inertia\n",
        "import matplotlib.pyplot as plt\n",
        "\n",
        "plt.plot(k_range, inertias)\n",
        "plt.xlabel('Number of Clusters (k)')\n",
        "plt.ylabel('Inertia')\n",
        "plt.title('Elbow Method for KMeans Clustering')\n",
        "plt.show()"
      ]
    },
    {
      "cell_type": "markdown",
      "source": [
        "### Testing K-Means Clustering :"
      ],
      "metadata": {
        "id": "fc6t3TSJmwmx"
      }
    },
    {
      "cell_type": "code",
      "source": [
        "# trying data on a smaller data (only 4 features)\n",
        "my_data = stratified_sampling(old_data,\"price\",0.1)\n",
        "data = my_data[[\"price\",\"square_feet\",\"bathrooms\",\"bedrooms\"]]"
      ],
      "metadata": {
        "id": "Jt1tvsUOR30I"
      },
      "execution_count": 68,
      "outputs": []
    },
    {
      "cell_type": "code",
      "execution_count": 69,
      "metadata": {
        "id": "pRfEa2Rooyi0"
      },
      "outputs": [],
      "source": [
        "k_means = KMeans(n_clusters=3, random_state=101)\n",
        "k_means.fit_predict(data)\n",
        "labels = k_means.labels_\n",
        "centroids = k_means.cluster_centers_"
      ]
    },
    {
      "cell_type": "code",
      "source": [
        "data"
      ],
      "metadata": {
        "id": "SRKfBbR8In-K",
        "colab": {
          "base_uri": "https://localhost:8080/",
          "height": 424
        },
        "outputId": "b334146e-71c9-48b7-e1f7-239eaaa2ca10"
      },
      "execution_count": 70,
      "outputs": [
        {
          "output_type": "execute_result",
          "data": {
            "text/plain": [
              "       price  square_feet  bathrooms  bedrooms\n",
              "0      350.0        600.0        1.0       2.0\n",
              "1      375.0        500.0        1.0       1.0\n",
              "2      400.0        670.0        1.0       1.0\n",
              "3      400.0        377.0        1.0       1.0\n",
              "4      425.0        625.0        1.0       1.0\n",
              "...      ...          ...        ...       ...\n",
              "8204  2932.0       1241.0        2.0       2.0\n",
              "8205  2932.0       1690.0        2.0       3.0\n",
              "8206  2932.0       1096.0        2.0       2.0\n",
              "8207  2932.0       1337.0        2.0       2.0\n",
              "8208  2932.0       1064.0        2.0       2.0\n",
              "\n",
              "[8209 rows x 4 columns]"
            ],
            "text/html": [
              "\n",
              "  <div id=\"df-f0d70c7e-4a8f-4c67-9625-b73b989e7ed4\" class=\"colab-df-container\">\n",
              "    <div>\n",
              "<style scoped>\n",
              "    .dataframe tbody tr th:only-of-type {\n",
              "        vertical-align: middle;\n",
              "    }\n",
              "\n",
              "    .dataframe tbody tr th {\n",
              "        vertical-align: top;\n",
              "    }\n",
              "\n",
              "    .dataframe thead th {\n",
              "        text-align: right;\n",
              "    }\n",
              "</style>\n",
              "<table border=\"1\" class=\"dataframe\">\n",
              "  <thead>\n",
              "    <tr style=\"text-align: right;\">\n",
              "      <th></th>\n",
              "      <th>price</th>\n",
              "      <th>square_feet</th>\n",
              "      <th>bathrooms</th>\n",
              "      <th>bedrooms</th>\n",
              "    </tr>\n",
              "  </thead>\n",
              "  <tbody>\n",
              "    <tr>\n",
              "      <th>0</th>\n",
              "      <td>350.0</td>\n",
              "      <td>600.0</td>\n",
              "      <td>1.0</td>\n",
              "      <td>2.0</td>\n",
              "    </tr>\n",
              "    <tr>\n",
              "      <th>1</th>\n",
              "      <td>375.0</td>\n",
              "      <td>500.0</td>\n",
              "      <td>1.0</td>\n",
              "      <td>1.0</td>\n",
              "    </tr>\n",
              "    <tr>\n",
              "      <th>2</th>\n",
              "      <td>400.0</td>\n",
              "      <td>670.0</td>\n",
              "      <td>1.0</td>\n",
              "      <td>1.0</td>\n",
              "    </tr>\n",
              "    <tr>\n",
              "      <th>3</th>\n",
              "      <td>400.0</td>\n",
              "      <td>377.0</td>\n",
              "      <td>1.0</td>\n",
              "      <td>1.0</td>\n",
              "    </tr>\n",
              "    <tr>\n",
              "      <th>4</th>\n",
              "      <td>425.0</td>\n",
              "      <td>625.0</td>\n",
              "      <td>1.0</td>\n",
              "      <td>1.0</td>\n",
              "    </tr>\n",
              "    <tr>\n",
              "      <th>...</th>\n",
              "      <td>...</td>\n",
              "      <td>...</td>\n",
              "      <td>...</td>\n",
              "      <td>...</td>\n",
              "    </tr>\n",
              "    <tr>\n",
              "      <th>8204</th>\n",
              "      <td>2932.0</td>\n",
              "      <td>1241.0</td>\n",
              "      <td>2.0</td>\n",
              "      <td>2.0</td>\n",
              "    </tr>\n",
              "    <tr>\n",
              "      <th>8205</th>\n",
              "      <td>2932.0</td>\n",
              "      <td>1690.0</td>\n",
              "      <td>2.0</td>\n",
              "      <td>3.0</td>\n",
              "    </tr>\n",
              "    <tr>\n",
              "      <th>8206</th>\n",
              "      <td>2932.0</td>\n",
              "      <td>1096.0</td>\n",
              "      <td>2.0</td>\n",
              "      <td>2.0</td>\n",
              "    </tr>\n",
              "    <tr>\n",
              "      <th>8207</th>\n",
              "      <td>2932.0</td>\n",
              "      <td>1337.0</td>\n",
              "      <td>2.0</td>\n",
              "      <td>2.0</td>\n",
              "    </tr>\n",
              "    <tr>\n",
              "      <th>8208</th>\n",
              "      <td>2932.0</td>\n",
              "      <td>1064.0</td>\n",
              "      <td>2.0</td>\n",
              "      <td>2.0</td>\n",
              "    </tr>\n",
              "  </tbody>\n",
              "</table>\n",
              "<p>8209 rows × 4 columns</p>\n",
              "</div>\n",
              "    <div class=\"colab-df-buttons\">\n",
              "\n",
              "  <div class=\"colab-df-container\">\n",
              "    <button class=\"colab-df-convert\" onclick=\"convertToInteractive('df-f0d70c7e-4a8f-4c67-9625-b73b989e7ed4')\"\n",
              "            title=\"Convert this dataframe to an interactive table.\"\n",
              "            style=\"display:none;\">\n",
              "\n",
              "  <svg xmlns=\"http://www.w3.org/2000/svg\" height=\"24px\" viewBox=\"0 -960 960 960\">\n",
              "    <path d=\"M120-120v-720h720v720H120Zm60-500h600v-160H180v160Zm220 220h160v-160H400v160Zm0 220h160v-160H400v160ZM180-400h160v-160H180v160Zm440 0h160v-160H620v160ZM180-180h160v-160H180v160Zm440 0h160v-160H620v160Z\"/>\n",
              "  </svg>\n",
              "    </button>\n",
              "\n",
              "  <style>\n",
              "    .colab-df-container {\n",
              "      display:flex;\n",
              "      gap: 12px;\n",
              "    }\n",
              "\n",
              "    .colab-df-convert {\n",
              "      background-color: #E8F0FE;\n",
              "      border: none;\n",
              "      border-radius: 50%;\n",
              "      cursor: pointer;\n",
              "      display: none;\n",
              "      fill: #1967D2;\n",
              "      height: 32px;\n",
              "      padding: 0 0 0 0;\n",
              "      width: 32px;\n",
              "    }\n",
              "\n",
              "    .colab-df-convert:hover {\n",
              "      background-color: #E2EBFA;\n",
              "      box-shadow: 0px 1px 2px rgba(60, 64, 67, 0.3), 0px 1px 3px 1px rgba(60, 64, 67, 0.15);\n",
              "      fill: #174EA6;\n",
              "    }\n",
              "\n",
              "    .colab-df-buttons div {\n",
              "      margin-bottom: 4px;\n",
              "    }\n",
              "\n",
              "    [theme=dark] .colab-df-convert {\n",
              "      background-color: #3B4455;\n",
              "      fill: #D2E3FC;\n",
              "    }\n",
              "\n",
              "    [theme=dark] .colab-df-convert:hover {\n",
              "      background-color: #434B5C;\n",
              "      box-shadow: 0px 1px 3px 1px rgba(0, 0, 0, 0.15);\n",
              "      filter: drop-shadow(0px 1px 2px rgba(0, 0, 0, 0.3));\n",
              "      fill: #FFFFFF;\n",
              "    }\n",
              "  </style>\n",
              "\n",
              "    <script>\n",
              "      const buttonEl =\n",
              "        document.querySelector('#df-f0d70c7e-4a8f-4c67-9625-b73b989e7ed4 button.colab-df-convert');\n",
              "      buttonEl.style.display =\n",
              "        google.colab.kernel.accessAllowed ? 'block' : 'none';\n",
              "\n",
              "      async function convertToInteractive(key) {\n",
              "        const element = document.querySelector('#df-f0d70c7e-4a8f-4c67-9625-b73b989e7ed4');\n",
              "        const dataTable =\n",
              "          await google.colab.kernel.invokeFunction('convertToInteractive',\n",
              "                                                    [key], {});\n",
              "        if (!dataTable) return;\n",
              "\n",
              "        const docLinkHtml = 'Like what you see? Visit the ' +\n",
              "          '<a target=\"_blank\" href=https://colab.research.google.com/notebooks/data_table.ipynb>data table notebook</a>'\n",
              "          + ' to learn more about interactive tables.';\n",
              "        element.innerHTML = '';\n",
              "        dataTable['output_type'] = 'display_data';\n",
              "        await google.colab.output.renderOutput(dataTable, element);\n",
              "        const docLink = document.createElement('div');\n",
              "        docLink.innerHTML = docLinkHtml;\n",
              "        element.appendChild(docLink);\n",
              "      }\n",
              "    </script>\n",
              "  </div>\n",
              "\n",
              "\n",
              "<div id=\"df-5f491e4f-a32a-4339-bdf7-ff92050f32d1\">\n",
              "  <button class=\"colab-df-quickchart\" onclick=\"quickchart('df-5f491e4f-a32a-4339-bdf7-ff92050f32d1')\"\n",
              "            title=\"Suggest charts\"\n",
              "            style=\"display:none;\">\n",
              "\n",
              "<svg xmlns=\"http://www.w3.org/2000/svg\" height=\"24px\"viewBox=\"0 0 24 24\"\n",
              "     width=\"24px\">\n",
              "    <g>\n",
              "        <path d=\"M19 3H5c-1.1 0-2 .9-2 2v14c0 1.1.9 2 2 2h14c1.1 0 2-.9 2-2V5c0-1.1-.9-2-2-2zM9 17H7v-7h2v7zm4 0h-2V7h2v10zm4 0h-2v-4h2v4z\"/>\n",
              "    </g>\n",
              "</svg>\n",
              "  </button>\n",
              "\n",
              "<style>\n",
              "  .colab-df-quickchart {\n",
              "      --bg-color: #E8F0FE;\n",
              "      --fill-color: #1967D2;\n",
              "      --hover-bg-color: #E2EBFA;\n",
              "      --hover-fill-color: #174EA6;\n",
              "      --disabled-fill-color: #AAA;\n",
              "      --disabled-bg-color: #DDD;\n",
              "  }\n",
              "\n",
              "  [theme=dark] .colab-df-quickchart {\n",
              "      --bg-color: #3B4455;\n",
              "      --fill-color: #D2E3FC;\n",
              "      --hover-bg-color: #434B5C;\n",
              "      --hover-fill-color: #FFFFFF;\n",
              "      --disabled-bg-color: #3B4455;\n",
              "      --disabled-fill-color: #666;\n",
              "  }\n",
              "\n",
              "  .colab-df-quickchart {\n",
              "    background-color: var(--bg-color);\n",
              "    border: none;\n",
              "    border-radius: 50%;\n",
              "    cursor: pointer;\n",
              "    display: none;\n",
              "    fill: var(--fill-color);\n",
              "    height: 32px;\n",
              "    padding: 0;\n",
              "    width: 32px;\n",
              "  }\n",
              "\n",
              "  .colab-df-quickchart:hover {\n",
              "    background-color: var(--hover-bg-color);\n",
              "    box-shadow: 0 1px 2px rgba(60, 64, 67, 0.3), 0 1px 3px 1px rgba(60, 64, 67, 0.15);\n",
              "    fill: var(--button-hover-fill-color);\n",
              "  }\n",
              "\n",
              "  .colab-df-quickchart-complete:disabled,\n",
              "  .colab-df-quickchart-complete:disabled:hover {\n",
              "    background-color: var(--disabled-bg-color);\n",
              "    fill: var(--disabled-fill-color);\n",
              "    box-shadow: none;\n",
              "  }\n",
              "\n",
              "  .colab-df-spinner {\n",
              "    border: 2px solid var(--fill-color);\n",
              "    border-color: transparent;\n",
              "    border-bottom-color: var(--fill-color);\n",
              "    animation:\n",
              "      spin 1s steps(1) infinite;\n",
              "  }\n",
              "\n",
              "  @keyframes spin {\n",
              "    0% {\n",
              "      border-color: transparent;\n",
              "      border-bottom-color: var(--fill-color);\n",
              "      border-left-color: var(--fill-color);\n",
              "    }\n",
              "    20% {\n",
              "      border-color: transparent;\n",
              "      border-left-color: var(--fill-color);\n",
              "      border-top-color: var(--fill-color);\n",
              "    }\n",
              "    30% {\n",
              "      border-color: transparent;\n",
              "      border-left-color: var(--fill-color);\n",
              "      border-top-color: var(--fill-color);\n",
              "      border-right-color: var(--fill-color);\n",
              "    }\n",
              "    40% {\n",
              "      border-color: transparent;\n",
              "      border-right-color: var(--fill-color);\n",
              "      border-top-color: var(--fill-color);\n",
              "    }\n",
              "    60% {\n",
              "      border-color: transparent;\n",
              "      border-right-color: var(--fill-color);\n",
              "    }\n",
              "    80% {\n",
              "      border-color: transparent;\n",
              "      border-right-color: var(--fill-color);\n",
              "      border-bottom-color: var(--fill-color);\n",
              "    }\n",
              "    90% {\n",
              "      border-color: transparent;\n",
              "      border-bottom-color: var(--fill-color);\n",
              "    }\n",
              "  }\n",
              "</style>\n",
              "\n",
              "  <script>\n",
              "    async function quickchart(key) {\n",
              "      const quickchartButtonEl =\n",
              "        document.querySelector('#' + key + ' button');\n",
              "      quickchartButtonEl.disabled = true;  // To prevent multiple clicks.\n",
              "      quickchartButtonEl.classList.add('colab-df-spinner');\n",
              "      try {\n",
              "        const charts = await google.colab.kernel.invokeFunction(\n",
              "            'suggestCharts', [key], {});\n",
              "      } catch (error) {\n",
              "        console.error('Error during call to suggestCharts:', error);\n",
              "      }\n",
              "      quickchartButtonEl.classList.remove('colab-df-spinner');\n",
              "      quickchartButtonEl.classList.add('colab-df-quickchart-complete');\n",
              "    }\n",
              "    (() => {\n",
              "      let quickchartButtonEl =\n",
              "        document.querySelector('#df-5f491e4f-a32a-4339-bdf7-ff92050f32d1 button');\n",
              "      quickchartButtonEl.style.display =\n",
              "        google.colab.kernel.accessAllowed ? 'block' : 'none';\n",
              "    })();\n",
              "  </script>\n",
              "</div>\n",
              "    </div>\n",
              "  </div>\n"
            ],
            "application/vnd.google.colaboratory.intrinsic+json": {
              "type": "dataframe",
              "variable_name": "data",
              "summary": "{\n  \"name\": \"data\",\n  \"rows\": 8209,\n  \"fields\": [\n    {\n      \"column\": \"price\",\n      \"properties\": {\n        \"dtype\": \"number\",\n        \"std\": 590.1026255490112,\n        \"min\": 350.0,\n        \"max\": 2932.0,\n        \"num_unique_values\": 1788,\n        \"samples\": [\n          2320.0,\n          1543.0,\n          1090.0\n        ],\n        \"semantic_type\": \"\",\n        \"description\": \"\"\n      }\n    },\n    {\n      \"column\": \"square_feet\",\n      \"properties\": {\n        \"dtype\": \"number\",\n        \"std\": 335.72437103034144,\n        \"min\": 219.0,\n        \"max\": 9998.0,\n        \"num_unique_values\": 1260,\n        \"samples\": [\n          590.0,\n          818.0,\n          660.0\n        ],\n        \"semantic_type\": \"\",\n        \"description\": \"\"\n      }\n    },\n    {\n      \"column\": \"bathrooms\",\n      \"properties\": {\n        \"dtype\": \"number\",\n        \"std\": 0.5347782307026621,\n        \"min\": 1.0,\n        \"max\": 9.0,\n        \"num_unique_values\": 7,\n        \"samples\": [\n          1.0,\n          2.0,\n          5.0\n        ],\n        \"semantic_type\": \"\",\n        \"description\": \"\"\n      }\n    },\n    {\n      \"column\": \"bedrooms\",\n      \"properties\": {\n        \"dtype\": \"number\",\n        \"std\": 0.7105764886578765,\n        \"min\": 0.0,\n        \"max\": 6.0,\n        \"num_unique_values\": 7,\n        \"samples\": [\n          2.0,\n          1.0,\n          5.0\n        ],\n        \"semantic_type\": \"\",\n        \"description\": \"\"\n      }\n    }\n  ]\n}"
            }
          },
          "metadata": {},
          "execution_count": 70
        }
      ]
    },
    {
      "cell_type": "markdown",
      "source": [
        "### Plotting K-Means Results"
      ],
      "metadata": {
        "id": "vW2QTxIvsZ4l"
      }
    },
    {
      "cell_type": "code",
      "source": [
        "# getting the different clusters\n",
        "data['cluster'] = k_means.labels_\n",
        "df1 = data[data['cluster'] == 0]\n",
        "df2 = data[data['cluster'] == 1]\n",
        "df3 = data[data['cluster'] == 2]"
      ],
      "metadata": {
        "id": "_zSf1YrqHP_I"
      },
      "execution_count": 71,
      "outputs": []
    },
    {
      "cell_type": "code",
      "source": [
        "# plotting our rent clusters\n",
        "plt.figure(figsize=(10, 8), dpi=100, facecolor='w', edgecolor='k')\n",
        "\n",
        "plt.xlabel(\"price\")\n",
        "plt.ylabel(\"square feet\")\n",
        "\n",
        "plt.scatter(df1.price, df1.square_feet, alpha = 0.25, s = 100, color='red',label=\"Cluster 1\")\n",
        "plt.scatter(df2.price, df2.square_feet, alpha = 0.25, s = 100, color='green',label=\"Cluster 2\")\n",
        "plt.scatter(df3.price, df3.square_feet, alpha = 0.25, s = 100, color='blue',label=\"Cluster 3\")\n",
        "plt.legend()\n",
        "plt.title(\"Rent k-Mean Clusters Scatterplot\");"
      ],
      "metadata": {
        "id": "wOGchRQnIv3Y",
        "colab": {
          "base_uri": "https://localhost:8080/",
          "height": 718
        },
        "outputId": "1ad5271d-84fb-4eb9-ebdb-9dc0654afab7"
      },
      "execution_count": 72,
      "outputs": [
        {
          "output_type": "display_data",
          "data": {
            "text/plain": [
              "<Figure size 1000x800 with 1 Axes>"
            ],
            "image/png": "[encoded data removed]"
          },
          "metadata": {}
        }
      ]
    },
    {
      "cell_type": "markdown",
      "metadata": {
        "id": "7Lc4AIduSyAp"
      },
      "source": [
        "# Anomaly Detection\n",
        "During preprocessing, we removed outliers.This might seem counter-intuitive for anomaly detection, but our goal was to identify genuine anomalies, not simply large values that deviate from the average. To achieve this, we employed a distance-based approach using KNN with a maximum of 4 neighbors"
      ]
    },
    {
      "cell_type": "markdown",
      "source": [
        "## Getting Data :"
      ],
      "metadata": {
        "id": "OlDYhe9BmZUm"
      }
    },
    {
      "cell_type": "code",
      "source": [
        "# trying the same sample For Anomaly detection\n",
        "my_data = stratified_sampling(old_data,\"price\",0.1)\n",
        "data = my_data[[\"price\",\"square_feet\",\"bathrooms\",\"bedrooms\"]]"
      ],
      "metadata": {
        "id": "2yMTWcsqrvTF"
      },
      "execution_count": 73,
      "outputs": []
    },
    {
      "cell_type": "code",
      "execution_count": 74,
      "metadata": {
        "id": "04WzF0w-C-Io",
        "colab": {
          "base_uri": "https://localhost:8080/"
        },
        "outputId": "c55a2787-50f5-408d-ed1d-37e87145be73"
      },
      "outputs": [
        {
          "output_type": "stream",
          "name": "stdout",
          "text": [
            "<class 'pandas.core.frame.DataFrame'>\n",
            "RangeIndex: 8209 entries, 0 to 8208\n",
            "Data columns (total 4 columns):\n",
            " #   Column       Non-Null Count  Dtype  \n",
            "---  ------       --------------  -----  \n",
            " 0   price        8209 non-null   float64\n",
            " 1   square_feet  8209 non-null   float64\n",
            " 2   bathrooms    8209 non-null   float64\n",
            " 3   bedrooms     8209 non-null   float64\n",
            "dtypes: float64(4)\n",
            "memory usage: 256.7 KB\n"
          ]
        }
      ],
      "source": [
        "# investigating data\n",
        "data.info()"
      ]
    },
    {
      "cell_type": "markdown",
      "source": [
        "## Distance Based Anomaly Detection :"
      ],
      "metadata": {
        "id": "9FrwSDbzmc5f"
      }
    },
    {
      "cell_type": "code",
      "execution_count": 75,
      "metadata": {
        "id": "jvW7HlSSSzIb"
      },
      "outputs": [],
      "source": [
        "# getting anomaly score using KNN\n",
        "knn = 4\n",
        "nbrs = NearestNeighbors(n_neighbors=knn, metric=distance.euclidean).fit(data.values)\n",
        "distances, indices = nbrs.kneighbors(data.values)\n",
        "anomaly_score = distances[:,knn-1]"
      ]
    },
    {
      "cell_type": "code",
      "execution_count": 76,
      "metadata": {
        "id": "Z7hTpwHu16h_",
        "colab": {
          "base_uri": "https://localhost:8080/",
          "height": 206
        },
        "outputId": "e1138861-e15c-46a3-8b79-ea89e43d5417"
      },
      "outputs": [
        {
          "output_type": "execute_result",
          "data": {
            "text/plain": [
              "       price  square_feet  bathrooms  bedrooms  Anomaly_score\n",
              "8008  2932.0       9998.0        1.0       0.0    5087.004914\n",
              "8101  2932.0       5055.0        9.0       6.0    1106.017631\n",
              "7929  2932.0       4996.0        5.0       4.0    1049.877136\n",
              "7917  2932.0       4911.0        6.0       5.0     969.612809\n",
              "7356  2300.0       3770.0        4.0       5.0     633.975552"
            ],
            "text/html": [
              "\n",
              "  <div id=\"df-3b5748c4-3102-43ce-851b-5348167e96f4\" class=\"colab-df-container\">\n",
              "    <div>\n",
              "<style scoped>\n",
              "    .dataframe tbody tr th:only-of-type {\n",
              "        vertical-align: middle;\n",
              "    }\n",
              "\n",
              "    .dataframe tbody tr th {\n",
              "        vertical-align: top;\n",
              "    }\n",
              "\n",
              "    .dataframe thead th {\n",
              "        text-align: right;\n",
              "    }\n",
              "</style>\n",
              "<table border=\"1\" class=\"dataframe\">\n",
              "  <thead>\n",
              "    <tr style=\"text-align: right;\">\n",
              "      <th></th>\n",
              "      <th>price</th>\n",
              "      <th>square_feet</th>\n",
              "      <th>bathrooms</th>\n",
              "      <th>bedrooms</th>\n",
              "      <th>Anomaly_score</th>\n",
              "    </tr>\n",
              "  </thead>\n",
              "  <tbody>\n",
              "    <tr>\n",
              "      <th>8008</th>\n",
              "      <td>2932.0</td>\n",
              "      <td>9998.0</td>\n",
              "      <td>1.0</td>\n",
              "      <td>0.0</td>\n",
              "      <td>5087.004914</td>\n",
              "    </tr>\n",
              "    <tr>\n",
              "      <th>8101</th>\n",
              "      <td>2932.0</td>\n",
              "      <td>5055.0</td>\n",
              "      <td>9.0</td>\n",
              "      <td>6.0</td>\n",
              "      <td>1106.017631</td>\n",
              "    </tr>\n",
              "    <tr>\n",
              "      <th>7929</th>\n",
              "      <td>2932.0</td>\n",
              "      <td>4996.0</td>\n",
              "      <td>5.0</td>\n",
              "      <td>4.0</td>\n",
              "      <td>1049.877136</td>\n",
              "    </tr>\n",
              "    <tr>\n",
              "      <th>7917</th>\n",
              "      <td>2932.0</td>\n",
              "      <td>4911.0</td>\n",
              "      <td>6.0</td>\n",
              "      <td>5.0</td>\n",
              "      <td>969.612809</td>\n",
              "    </tr>\n",
              "    <tr>\n",
              "      <th>7356</th>\n",
              "      <td>2300.0</td>\n",
              "      <td>3770.0</td>\n",
              "      <td>4.0</td>\n",
              "      <td>5.0</td>\n",
              "      <td>633.975552</td>\n",
              "    </tr>\n",
              "  </tbody>\n",
              "</table>\n",
              "</div>\n",
              "    <div class=\"colab-df-buttons\">\n",
              "\n",
              "  <div class=\"colab-df-container\">\n",
              "    <button class=\"colab-df-convert\" onclick=\"convertToInteractive('df-3b5748c4-3102-43ce-851b-5348167e96f4')\"\n",
              "            title=\"Convert this dataframe to an interactive table.\"\n",
              "            style=\"display:none;\">\n",
              "\n",
              "  <svg xmlns=\"http://www.w3.org/2000/svg\" height=\"24px\" viewBox=\"0 -960 960 960\">\n",
              "    <path d=\"M120-120v-720h720v720H120Zm60-500h600v-160H180v160Zm220 220h160v-160H400v160Zm0 220h160v-160H400v160ZM180-400h160v-160H180v160Zm440 0h160v-160H620v160ZM180-180h160v-160H180v160Zm440 0h160v-160H620v160Z\"/>\n",
              "  </svg>\n",
              "    </button>\n",
              "\n",
              "  <style>\n",
              "    .colab-df-container {\n",
              "      display:flex;\n",
              "      gap: 12px;\n",
              "    }\n",
              "\n",
              "    .colab-df-convert {\n",
              "      background-color: #E8F0FE;\n",
              "      border: none;\n",
              "      border-radius: 50%;\n",
              "      cursor: pointer;\n",
              "      display: none;\n",
              "      fill: #1967D2;\n",
              "      height: 32px;\n",
              "      padding: 0 0 0 0;\n",
              "      width: 32px;\n",
              "    }\n",
              "\n",
              "    .colab-df-convert:hover {\n",
              "      background-color: #E2EBFA;\n",
              "      box-shadow: 0px 1px 2px rgba(60, 64, 67, 0.3), 0px 1px 3px 1px rgba(60, 64, 67, 0.15);\n",
              "      fill: #174EA6;\n",
              "    }\n",
              "\n",
              "    .colab-df-buttons div {\n",
              "      margin-bottom: 4px;\n",
              "    }\n",
              "\n",
              "    [theme=dark] .colab-df-convert {\n",
              "      background-color: #3B4455;\n",
              "      fill: #D2E3FC;\n",
              "    }\n",
              "\n",
              "    [theme=dark] .colab-df-convert:hover {\n",
              "      background-color: #434B5C;\n",
              "      box-shadow: 0px 1px 3px 1px rgba(0, 0, 0, 0.15);\n",
              "      filter: drop-shadow(0px 1px 2px rgba(0, 0, 0, 0.3));\n",
              "      fill: #FFFFFF;\n",
              "    }\n",
              "  </style>\n",
              "\n",
              "    <script>\n",
              "      const buttonEl =\n",
              "        document.querySelector('#df-3b5748c4-3102-43ce-851b-5348167e96f4 button.colab-df-convert');\n",
              "      buttonEl.style.display =\n",
              "        google.colab.kernel.accessAllowed ? 'block' : 'none';\n",
              "\n",
              "      async function convertToInteractive(key) {\n",
              "        const element = document.querySelector('#df-3b5748c4-3102-43ce-851b-5348167e96f4');\n",
              "        const dataTable =\n",
              "          await google.colab.kernel.invokeFunction('convertToInteractive',\n",
              "                                                    [key], {});\n",
              "        if (!dataTable) return;\n",
              "\n",
              "        const docLinkHtml = 'Like what you see? Visit the ' +\n",
              "          '<a target=\"_blank\" href=https://colab.research.google.com/notebooks/data_table.ipynb>data table notebook</a>'\n",
              "          + ' to learn more about interactive tables.';\n",
              "        element.innerHTML = '';\n",
              "        dataTable['output_type'] = 'display_data';\n",
              "        await google.colab.output.renderOutput(dataTable, element);\n",
              "        const docLink = document.createElement('div');\n",
              "        docLink.innerHTML = docLinkHtml;\n",
              "        element.appendChild(docLink);\n",
              "      }\n",
              "    </script>\n",
              "  </div>\n",
              "\n",
              "\n",
              "<div id=\"df-6135cfaf-6c9c-4b76-8573-8990460c5a3d\">\n",
              "  <button class=\"colab-df-quickchart\" onclick=\"quickchart('df-6135cfaf-6c9c-4b76-8573-8990460c5a3d')\"\n",
              "            title=\"Suggest charts\"\n",
              "            style=\"display:none;\">\n",
              "\n",
              "<svg xmlns=\"http://www.w3.org/2000/svg\" height=\"24px\"viewBox=\"0 0 24 24\"\n",
              "     width=\"24px\">\n",
              "    <g>\n",
              "        <path d=\"M19 3H5c-1.1 0-2 .9-2 2v14c0 1.1.9 2 2 2h14c1.1 0 2-.9 2-2V5c0-1.1-.9-2-2-2zM9 17H7v-7h2v7zm4 0h-2V7h2v10zm4 0h-2v-4h2v4z\"/>\n",
              "    </g>\n",
              "</svg>\n",
              "  </button>\n",
              "\n",
              "<style>\n",
              "  .colab-df-quickchart {\n",
              "      --bg-color: #E8F0FE;\n",
              "      --fill-color: #1967D2;\n",
              "      --hover-bg-color: #E2EBFA;\n",
              "      --hover-fill-color: #174EA6;\n",
              "      --disabled-fill-color: #AAA;\n",
              "      --disabled-bg-color: #DDD;\n",
              "  }\n",
              "\n",
              "  [theme=dark] .colab-df-quickchart {\n",
              "      --bg-color: #3B4455;\n",
              "      --fill-color: #D2E3FC;\n",
              "      --hover-bg-color: #434B5C;\n",
              "      --hover-fill-color: #FFFFFF;\n",
              "      --disabled-bg-color: #3B4455;\n",
              "      --disabled-fill-color: #666;\n",
              "  }\n",
              "\n",
              "  .colab-df-quickchart {\n",
              "    background-color: var(--bg-color);\n",
              "    border: none;\n",
              "    border-radius: 50%;\n",
              "    cursor: pointer;\n",
              "    display: none;\n",
              "    fill: var(--fill-color);\n",
              "    height: 32px;\n",
              "    padding: 0;\n",
              "    width: 32px;\n",
              "  }\n",
              "\n",
              "  .colab-df-quickchart:hover {\n",
              "    background-color: var(--hover-bg-color);\n",
              "    box-shadow: 0 1px 2px rgba(60, 64, 67, 0.3), 0 1px 3px 1px rgba(60, 64, 67, 0.15);\n",
              "    fill: var(--button-hover-fill-color);\n",
              "  }\n",
              "\n",
              "  .colab-df-quickchart-complete:disabled,\n",
              "  .colab-df-quickchart-complete:disabled:hover {\n",
              "    background-color: var(--disabled-bg-color);\n",
              "    fill: var(--disabled-fill-color);\n",
              "    box-shadow: none;\n",
              "  }\n",
              "\n",
              "  .colab-df-spinner {\n",
              "    border: 2px solid var(--fill-color);\n",
              "    border-color: transparent;\n",
              "    border-bottom-color: var(--fill-color);\n",
              "    animation:\n",
              "      spin 1s steps(1) infinite;\n",
              "  }\n",
              "\n",
              "  @keyframes spin {\n",
              "    0% {\n",
              "      border-color: transparent;\n",
              "      border-bottom-color: var(--fill-color);\n",
              "      border-left-color: var(--fill-color);\n",
              "    }\n",
              "    20% {\n",
              "      border-color: transparent;\n",
              "      border-left-color: var(--fill-color);\n",
              "      border-top-color: var(--fill-color);\n",
              "    }\n",
              "    30% {\n",
              "      border-color: transparent;\n",
              "      border-left-color: var(--fill-color);\n",
              "      border-top-color: var(--fill-color);\n",
              "      border-right-color: var(--fill-color);\n",
              "    }\n",
              "    40% {\n",
              "      border-color: transparent;\n",
              "      border-right-color: var(--fill-color);\n",
              "      border-top-color: var(--fill-color);\n",
              "    }\n",
              "    60% {\n",
              "      border-color: transparent;\n",
              "      border-right-color: var(--fill-color);\n",
              "    }\n",
              "    80% {\n",
              "      border-color: transparent;\n",
              "      border-right-color: var(--fill-color);\n",
              "      border-bottom-color: var(--fill-color);\n",
              "    }\n",
              "    90% {\n",
              "      border-color: transparent;\n",
              "      border-bottom-color: var(--fill-color);\n",
              "    }\n",
              "  }\n",
              "</style>\n",
              "\n",
              "  <script>\n",
              "    async function quickchart(key) {\n",
              "      const quickchartButtonEl =\n",
              "        document.querySelector('#' + key + ' button');\n",
              "      quickchartButtonEl.disabled = true;  // To prevent multiple clicks.\n",
              "      quickchartButtonEl.classList.add('colab-df-spinner');\n",
              "      try {\n",
              "        const charts = await google.colab.kernel.invokeFunction(\n",
              "            'suggestCharts', [key], {});\n",
              "      } catch (error) {\n",
              "        console.error('Error during call to suggestCharts:', error);\n",
              "      }\n",
              "      quickchartButtonEl.classList.remove('colab-df-spinner');\n",
              "      quickchartButtonEl.classList.add('colab-df-quickchart-complete');\n",
              "    }\n",
              "    (() => {\n",
              "      let quickchartButtonEl =\n",
              "        document.querySelector('#df-6135cfaf-6c9c-4b76-8573-8990460c5a3d button');\n",
              "      quickchartButtonEl.style.display =\n",
              "        google.colab.kernel.accessAllowed ? 'block' : 'none';\n",
              "    })();\n",
              "  </script>\n",
              "</div>\n",
              "    </div>\n",
              "  </div>\n"
            ],
            "application/vnd.google.colaboratory.intrinsic+json": {
              "type": "dataframe",
              "summary": "{\n  \"name\": \"result\",\n  \"rows\": 5,\n  \"fields\": [\n    {\n      \"column\": \"price\",\n      \"properties\": {\n        \"dtype\": \"number\",\n        \"std\": 282.6389923559734,\n        \"min\": 2300.0,\n        \"max\": 2932.0,\n        \"num_unique_values\": 2,\n        \"samples\": [\n          2300.0,\n          2932.0\n        ],\n        \"semantic_type\": \"\",\n        \"description\": \"\"\n      }\n    },\n    {\n      \"column\": \"square_feet\",\n      \"properties\": {\n        \"dtype\": \"number\",\n        \"std\": 2435.225143595557,\n        \"min\": 3770.0,\n        \"max\": 9998.0,\n        \"num_unique_values\": 5,\n        \"samples\": [\n          5055.0,\n          3770.0\n        ],\n        \"semantic_type\": \"\",\n        \"description\": \"\"\n      }\n    },\n    {\n      \"column\": \"bathrooms\",\n      \"properties\": {\n        \"dtype\": \"number\",\n        \"std\": 2.9154759474226504,\n        \"min\": 1.0,\n        \"max\": 9.0,\n        \"num_unique_values\": 5,\n        \"samples\": [\n          9.0,\n          4.0\n        ],\n        \"semantic_type\": \"\",\n        \"description\": \"\"\n      }\n    },\n    {\n      \"column\": \"bedrooms\",\n      \"properties\": {\n        \"dtype\": \"number\",\n        \"std\": 2.345207879911715,\n        \"min\": 0.0,\n        \"max\": 6.0,\n        \"num_unique_values\": 4,\n        \"samples\": [\n          6.0,\n          5.0\n        ],\n        \"semantic_type\": \"\",\n        \"description\": \"\"\n      }\n    },\n    {\n      \"column\": \"Anomaly_score\",\n      \"properties\": {\n        \"dtype\": \"number\",\n        \"std\": 1863.6751235454926,\n        \"min\": 633.975551579081,\n        \"max\": 5087.004914485537,\n        \"num_unique_values\": 5,\n        \"samples\": [\n          1106.017630962545,\n          633.975551579081\n        ],\n        \"semantic_type\": \"\",\n        \"description\": \"\"\n      }\n    }\n  ]\n}"
            }
          },
          "metadata": {},
          "execution_count": 76
        }
      ],
      "source": [
        "# Appending Anomaly Score into a dataframe\n",
        "anom = pd.DataFrame(anomaly_score, index=data.index, columns=['Anomaly_score'])\n",
        "result = pd.concat((data,anom), axis=1)\n",
        "result.nlargest(5,'Anomaly_score')"
      ]
    },
    {
      "cell_type": "markdown",
      "source": [
        "## Plotting Anomaly Results :"
      ],
      "metadata": {
        "id": "qoSbwc-HmjZh"
      }
    },
    {
      "cell_type": "code",
      "execution_count": 77,
      "metadata": {
        "id": "fvdZPRG62LNg",
        "colab": {
          "base_uri": "https://localhost:8080/",
          "height": 542
        },
        "outputId": "59793fe5-f3e4-4538-cc68-2b42412e45f0"
      },
      "outputs": [
        {
          "output_type": "display_data",
          "data": {
            "text/plain": [
              "<Figure size 1000x600 with 2 Axes>"
            ],
            "image/png": "[encoded data removed]"
          },
          "metadata": {}
        }
      ],
      "source": [
        "# plotting anomaly score for \"price\" vs. \"square_feet\"\n",
        "fig = plt.figure(figsize=(10,6))\n",
        "ax = fig.add_subplot(111)\n",
        "p = ax.scatter(data.price,data.square_feet,c=anomaly_score,cmap='jet')\n",
        "ax.set_xlabel('price')\n",
        "ax.set_ylabel('square_feet')\n",
        "fig.colorbar(p);"
      ]
    },
    {
      "cell_type": "code",
      "source": [
        "# plotting anomaly score for \"bathrooms\" vs. \"bedrooms\"\n",
        "fig = plt.figure(figsize=(10,6))\n",
        "ax = fig.add_subplot(111)\n",
        "p = ax.scatter(data.bathrooms,data.bedrooms,c=anomaly_score,cmap='jet')\n",
        "ax.set_xlabel('bathrooms')\n",
        "ax.set_ylabel('bedrooms')\n",
        "fig.colorbar(p);"
      ],
      "metadata": {
        "id": "ZFaNOqQiSMba",
        "colab": {
          "base_uri": "https://localhost:8080/",
          "height": 542
        },
        "outputId": "6846e271-3770-4927-8cef-c177618f4822"
      },
      "execution_count": 78,
      "outputs": [
        {
          "output_type": "display_data",
          "data": {
            "text/plain": [
              "<Figure size 1000x600 with 2 Axes>"
            ],
            "image/png": "[encoded data removed]"
          },
          "metadata": {}
        }
      ]
    },
    {
      "cell_type": "code",
      "source": [
        "# plotting the anomaly score with data count for \"bathrooms\" vs. \"bedrooms\"\n",
        "fig = plt.figure(figsize=(10,6))\n",
        "sns.scatterplot(data=result, x=\"bathrooms\", y=\"bedrooms\", size=\"Anomaly_score\",hue=\"Anomaly_score\");"
      ],
      "metadata": {
        "id": "RdOXAAp_Svvl",
        "colab": {
          "base_uri": "https://localhost:8080/",
          "height": 542
        },
        "outputId": "8117d1cd-4cbe-482d-da6b-e1a9510d432d"
      },
      "execution_count": 79,
      "outputs": [
        {
          "output_type": "display_data",
          "data": {
            "text/plain": [
              "<Figure size 1000x600 with 1 Axes>"
            ],
            "image/png": "[encoded data removed]"
          },
          "metadata": {}
        }
      ]
    }
  ],
  "metadata": {
    "colab": {
      "provenance": []
    },
    "kernelspec": {
      "display_name": "Python 3",
      "name": "python3"
    },
    "language_info": {
      "name": "python"
    }
  },
  "nbformat": 4,
  "nbformat_minor": 0
}